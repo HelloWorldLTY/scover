{
 "cells": [
  {
   "cell_type": "code",
   "execution_count": 30,
   "id": "c122d9d9",
   "metadata": {},
   "outputs": [],
   "source": [
    "import copy\n",
    "import scanpy as sc\n",
    "import numpy as np\n",
    "import pickle\n",
    "import pandas as pd\n",
    "from tqdm.auto import tqdm\n",
    "import torch\n",
    "import torch.nn as nn\n",
    "import torch.nn.functional as F\n",
    "from torch.utils.data import DataLoader\n",
    "import pytorch_lightning as pl\n",
    "from pytorch_lightning.callbacks.early_stopping import EarlyStopping\n",
    "\n",
    "import matplotlib as mpl\n",
    "import matplotlib.pyplot as plt\n",
    "import seaborn as sns\n",
    "\n",
    "from scover.data.utils import *\n",
    "from scover.net.seqnet import *\n",
    "\n",
    "import warnings\n",
    "\n",
    "warnings.filterwarnings(\"ignore\")"
   ]
  },
  {
   "cell_type": "markdown",
   "id": "89c51f2b",
   "metadata": {},
   "source": [
    "# Running scover\n",
    "\n",
    "In this example, I am using the bone marrow dataset from Tabula Muris (see parts 1 and 2). As this is a mock example, I am only running the network for a few epochs with a limited hyperparameter sweep. As such, the results are not representative, but this notebook is designed to show how to go from input data to analysing the output data."
   ]
  },
  {
   "cell_type": "code",
   "execution_count": 2,
   "id": "30192a0b",
   "metadata": {},
   "outputs": [
    {
     "data": {
      "text/html": [
       "<div>\n",
       "<style scoped>\n",
       "    .dataframe tbody tr th:only-of-type {\n",
       "        vertical-align: middle;\n",
       "    }\n",
       "\n",
       "    .dataframe tbody tr th {\n",
       "        vertical-align: top;\n",
       "    }\n",
       "\n",
       "    .dataframe thead th {\n",
       "        text-align: right;\n",
       "    }\n",
       "</style>\n",
       "<table border=\"1\" class=\"dataframe\">\n",
       "  <thead>\n",
       "    <tr style=\"text-align: right;\">\n",
       "      <th></th>\n",
       "      <th>symbol</th>\n",
       "      <th>nonz_counts</th>\n",
       "      <th>promoter_seq</th>\n",
       "    </tr>\n",
       "  </thead>\n",
       "  <tbody>\n",
       "    <tr>\n",
       "      <th>0610005C13Rik</th>\n",
       "      <td>0610005C13Rik</td>\n",
       "      <td>36</td>\n",
       "      <td>ttggtcatctgaatctggaggtctgcagcctgagagaaagaaataa...</td>\n",
       "    </tr>\n",
       "    <tr>\n",
       "      <th>0610007P14Rik</th>\n",
       "      <td>0610007P14Rik</td>\n",
       "      <td>1901</td>\n",
       "      <td>gggaccacgctctgcttcacctccctcctccttccccagcccgaat...</td>\n",
       "    </tr>\n",
       "    <tr>\n",
       "      <th>0610009B22Rik</th>\n",
       "      <td>0610009B22Rik</td>\n",
       "      <td>1076</td>\n",
       "      <td>gaagtcaatgatttttagccaaagtagcttcgaaatgtctgtttaa...</td>\n",
       "    </tr>\n",
       "    <tr>\n",
       "      <th>0610009L18Rik</th>\n",
       "      <td>0610009L18Rik</td>\n",
       "      <td>440</td>\n",
       "      <td>gaggagtgcagtccccaccccgggcggcgtaaccgtcggctaccgg...</td>\n",
       "    </tr>\n",
       "    <tr>\n",
       "      <th>0610009O20Rik</th>\n",
       "      <td>0610009O20Rik</td>\n",
       "      <td>1189</td>\n",
       "      <td>attagccagatatctctttggtggttaagttacatcgcaaaaggtt...</td>\n",
       "    </tr>\n",
       "    <tr>\n",
       "      <th>...</th>\n",
       "      <td>...</td>\n",
       "      <td>...</td>\n",
       "      <td>...</td>\n",
       "    </tr>\n",
       "    <tr>\n",
       "      <th>Zyx</th>\n",
       "      <td>Zyx</td>\n",
       "      <td>3310</td>\n",
       "      <td>cttgtccccggggcaatactattgcaggcgggtctagggcaaagcg...</td>\n",
       "    </tr>\n",
       "    <tr>\n",
       "      <th>Zzef1</th>\n",
       "      <td>Zzef1</td>\n",
       "      <td>1642</td>\n",
       "      <td>ggctcagcaccacaccaagcccgcatatcctcagcatctatacagc...</td>\n",
       "    </tr>\n",
       "    <tr>\n",
       "      <th>Zzz3</th>\n",
       "      <td>Zzz3</td>\n",
       "      <td>1400</td>\n",
       "      <td>agatggcaggtgtgatagtcagtataactataattggtattcttta...</td>\n",
       "    </tr>\n",
       "    <tr>\n",
       "      <th>a</th>\n",
       "      <td>a</td>\n",
       "      <td>21</td>\n",
       "      <td>ccgccctcagcctgctgctcctccctcgtgtcctcccgcccgtcag...</td>\n",
       "    </tr>\n",
       "    <tr>\n",
       "      <th>l7Rn6</th>\n",
       "      <td>l7Rn6</td>\n",
       "      <td>1856</td>\n",
       "      <td>tcgaggtctacctgggctaggtaataagacactgccataaaaatga...</td>\n",
       "    </tr>\n",
       "  </tbody>\n",
       "</table>\n",
       "<p>21286 rows × 3 columns</p>\n",
       "</div>"
      ],
      "text/plain": [
       "                      symbol  nonz_counts  \\\n",
       "0610005C13Rik  0610005C13Rik           36   \n",
       "0610007P14Rik  0610007P14Rik         1901   \n",
       "0610009B22Rik  0610009B22Rik         1076   \n",
       "0610009L18Rik  0610009L18Rik          440   \n",
       "0610009O20Rik  0610009O20Rik         1189   \n",
       "...                      ...          ...   \n",
       "Zyx                      Zyx         3310   \n",
       "Zzef1                  Zzef1         1642   \n",
       "Zzz3                    Zzz3         1400   \n",
       "a                          a           21   \n",
       "l7Rn6                  l7Rn6         1856   \n",
       "\n",
       "                                                    promoter_seq  \n",
       "0610005C13Rik  ttggtcatctgaatctggaggtctgcagcctgagagaaagaaataa...  \n",
       "0610007P14Rik  gggaccacgctctgcttcacctccctcctccttccccagcccgaat...  \n",
       "0610009B22Rik  gaagtcaatgatttttagccaaagtagcttcgaaatgtctgtttaa...  \n",
       "0610009L18Rik  gaggagtgcagtccccaccccgggcggcgtaaccgtcggctaccgg...  \n",
       "0610009O20Rik  attagccagatatctctttggtggttaagttacatcgcaaaaggtt...  \n",
       "...                                                          ...  \n",
       "Zyx            cttgtccccggggcaatactattgcaggcgggtctagggcaaagcg...  \n",
       "Zzef1          ggctcagcaccacaccaagcccgcatatcctcagcatctatacagc...  \n",
       "Zzz3           agatggcaggtgtgatagtcagtataactataattggtattcttta...  \n",
       "a              ccgccctcagcctgctgctcctccctcgtgtcctcccgcccgtcag...  \n",
       "l7Rn6          tcgaggtctacctgggctaggtaataagacactgccataaaaatga...  \n",
       "\n",
       "[21286 rows x 3 columns]"
      ]
     },
     "execution_count": 2,
     "metadata": {},
     "output_type": "execute_result"
    }
   ],
   "source": [
    "ad = sc.read(\"data/Marrow_pooled.h5ad\")\n",
    "# Check if sequence information is there:\n",
    "ad.var"
   ]
  },
  {
   "cell_type": "markdown",
   "id": "43f72159",
   "metadata": {},
   "source": [
    "Let's check the data:"
   ]
  },
  {
   "cell_type": "code",
   "execution_count": 3,
   "id": "525ac3bc",
   "metadata": {},
   "outputs": [
    {
     "data": {
      "image/png": "[encoded data removed]",
      "text/plain": [
       "<Figure size 576x576 with 1 Axes>"
      ]
     },
     "metadata": {},
     "output_type": "display_data"
    }
   ],
   "source": [
    "mpl.rcParams[\"figure.figsize\"] = (8, 8)\n",
    "sc.pl.umap(ad, color='most_abundant_celltype', legend_loc='on data')"
   ]
  },
  {
   "cell_type": "markdown",
   "id": "063c6ffa",
   "metadata": {},
   "source": [
    "## Filter genes based on expression:"
   ]
  },
  {
   "cell_type": "code",
   "execution_count": 4,
   "id": "77d84855",
   "metadata": {},
   "outputs": [
    {
     "data": {
      "text/plain": [
       "(100, 16288)"
      ]
     },
     "execution_count": 4,
     "metadata": {},
     "output_type": "execute_result"
    },
    {
     "data": {
      "image/png": "[encoded data removed]",
      "text/plain": [
       "<Figure size 360x360 with 1 Axes>"
      ]
     },
     "metadata": {
      "needs_background": "light"
     },
     "output_type": "display_data"
    }
   ],
   "source": [
    "mpl.rcParams[\"figure.figsize\"] = (5, 5)\n",
    "\n",
    "# To avoid dividing by 0\n",
    "sc.pp.filter_genes(ad, min_cells=1)\n",
    "\n",
    "# calculate the mean of each gene across non-zero cells\n",
    "n_cells = (ad.X > 0).sum(0)\n",
    "nonz_mean = ad.X.sum(0) / n_cells\n",
    "\n",
    "plt.hist2d(nonz_mean, n_cells, bins=100, norm=mpl.colors.LogNorm())\n",
    "\n",
    "nonz_mean_cutoff = np.log10(4)  # cut off for expression in non-zero cells\n",
    "cell_count_cutoff = ad.shape[\n",
    "    0] * 0.03  # cut off percentage for cells with higher expression\n",
    "cell_count_cutoff2 = ad.shape[\n",
    "    0] * 0.08  # cut off percentage for cells with small expression\n",
    "\n",
    "plt.vlines(nonz_mean_cutoff,\n",
    "           cell_count_cutoff,\n",
    "           cell_count_cutoff2,\n",
    "           color='orange')\n",
    "plt.hlines(cell_count_cutoff, nonz_mean_cutoff, max(nonz_mean), color='orange')\n",
    "plt.hlines(cell_count_cutoff2, 0, nonz_mean_cutoff, color='orange')\n",
    "plt.xlabel('Mean count in cells with mRNA count > 0 (log10)')\n",
    "plt.ylabel('Count of cells with mRNA count > 0 (log10)')\n",
    "\n",
    "# Everything below the orange line is excluded\n",
    "ad[:, ((np.array(nonz_mean > nonz_mean_cutoff)\n",
    "        | np.array(n_cells > cell_count_cutoff2))\n",
    "       & np.array(n_cells > cell_count_cutoff))].shape"
   ]
  },
  {
   "cell_type": "markdown",
   "id": "e7e57dd5",
   "metadata": {},
   "source": [
    "Apply the filter:"
   ]
  },
  {
   "cell_type": "code",
   "execution_count": 5,
   "id": "60b9b588",
   "metadata": {},
   "outputs": [],
   "source": [
    "ad = ad[:, ((np.array(nonz_mean > nonz_mean_cutoff)\n",
    "             | np.array(n_cells > cell_count_cutoff2))\n",
    "            & np.array(n_cells > cell_count_cutoff))]"
   ]
  },
  {
   "cell_type": "markdown",
   "id": "7bfb635e",
   "metadata": {},
   "source": [
    "## Convert sequences to sequence tensor"
   ]
  },
  {
   "cell_type": "code",
   "execution_count": 6,
   "id": "9875cf87",
   "metadata": {},
   "outputs": [
    {
     "data": {
      "text/plain": [
       "(16288, 1, 1000, 4)"
      ]
     },
     "execution_count": 6,
     "metadata": {},
     "output_type": "execute_result"
    }
   ],
   "source": [
    "X_seqs = seq_list_to_conv(list(ad.var['promoter_seq']), expand=True)\n",
    "X_seqs.shape"
   ]
  },
  {
   "cell_type": "markdown",
   "id": "e2192723",
   "metadata": {},
   "source": [
    "## Get count data from the AnnData object\n",
    "\n",
    "I transpose the data matrix because I want genes by cells, not cells by genes. (The batches are along the gene axis)"
   ]
  },
  {
   "cell_type": "code",
   "execution_count": 7,
   "id": "a3fcb34f",
   "metadata": {},
   "outputs": [
    {
     "data": {
      "text/plain": [
       "(16288, 100)"
      ]
     },
     "execution_count": 7,
     "metadata": {},
     "output_type": "execute_result"
    }
   ],
   "source": [
    "X_data = ad.X.T\n",
    "X_data.shape"
   ]
  },
  {
   "cell_type": "markdown",
   "id": "d900d154",
   "metadata": {},
   "source": [
    "# Setting up the hyperparameter search with Ray Tune + Pytorch Lightning"
   ]
  },
  {
   "cell_type": "markdown",
   "id": "a2b1e93f",
   "metadata": {},
   "source": [
    "## Get train-val-test splits"
   ]
  },
  {
   "cell_type": "code",
   "execution_count": 8,
   "id": "2394bb5a",
   "metadata": {},
   "outputs": [
    {
     "data": {
      "text/plain": [
       "10"
      ]
     },
     "execution_count": 8,
     "metadata": {},
     "output_type": "execute_result"
    }
   ],
   "source": [
    "k_outer = 10\n",
    "idx_sets = get_splits(ind_list = list(range(X_data.shape[0])),\n",
    "                           n_splits = k_outer)\n",
    "len(idx_sets['test'])"
   ]
  },
  {
   "attachments": {
    "image.png": {
     "image/png": "[encoded data removed]"
    }
   },
   "cell_type": "markdown",
   "id": "51f3e7f2",
   "metadata": {},
   "source": [
    "## Run the training loop\n",
    "\n",
    "For this, you will require a GPU, otherwise this might take a long time. (It is possible if you set `num_gpus` to `0`).\n",
    "\n",
    "One way to keep track of the runs while they are running is to open a terminal after the runs have started and run `tensorboard --logdir $logdir` where `$logdir` is `{exp_name}_tune` (so in this case the full command would be `tensorboard --logdir Marrow_pool80_tune`. This opens a tensorboard session with live-updating plots for the different runs:\n",
    "\n",
    "|![image.png](attachment:image.png)|\n",
    "|:-----:|\n",
    "|Example outputs in tensorboard|\n",
    "\n",
    "Specify parameters and output directories below. This is a toy example, usually `trials_per_outer` is set to `100`, and `epochs_per_hyperparam_opt` is set to `40`.\n",
    "\n",
    "Sometimes, to make `ray` work, it might require you to start a local head node with `ray start --head` before running this notebook, but it's worth trying without first."
   ]
  },
  {
   "cell_type": "code",
   "execution_count": 9,
   "id": "6bf3e7e2",
   "metadata": {},
   "outputs": [],
   "source": [
    "exp_name = \"Marrow_pool80\"\n",
    "trials_per_outer = 2\n",
    "epochs_per_hyperparam_opt = 10\n",
    "final_epochs = 10\n",
    "num_gpus = 1 if torch.cuda.is_available() else 0"
   ]
  },
  {
   "cell_type": "code",
   "execution_count": 10,
   "id": "f5b1efb1",
   "metadata": {},
   "outputs": [
    {
     "name": "stdout",
     "output_type": "stream",
     "text": [
      "Number of GPUs used: 1\n"
     ]
    }
   ],
   "source": [
    "print(f'Number of GPUs used: {num_gpus}')"
   ]
  },
  {
   "cell_type": "code",
   "execution_count": 11,
   "id": "c1adc430",
   "metadata": {
    "scrolled": false
   },
   "outputs": [
    {
     "data": {
      "text/html": [
       "<div class=\"tuneStatus\">\n",
       "  <div style=\"display: flex;flex-direction: row\">\n",
       "    <div style=\"display: flex;flex-direction: column;\">\n",
       "      <h3>Tune Status</h3>\n",
       "      <table>\n",
       "<tbody>\n",
       "<tr><td>Current time:</td><td>2023-06-22 14:56:19</td></tr>\n",
       "<tr><td>Running for: </td><td>00:00:54.07        </td></tr>\n",
       "<tr><td>Memory:      </td><td>87.4/503.8 GiB     </td></tr>\n",
       "</tbody>\n",
       "</table>\n",
       "    </div>\n",
       "    <div class=\"vDivider\"></div>\n",
       "    <div class=\"systemInfo\">\n",
       "      <h3>System Info</h3>\n",
       "      Using AsyncHyperBand: num_stopped=2<br>Bracket: Iter 8.000: -1.9287853240966797 | Iter 4.000: -1.9967505931854248 | Iter 2.000: -2.08933162689209 | Iter 1.000: -2.1852028369903564<br>Resources requested: 0/80 CPUs, 0/1 GPUs, 0.0/292.94 GiB heap, 0.0/129.54 GiB objects (0.0/1.0 accelerator_type:V100)\n",
       "    </div>\n",
       "    \n",
       "  </div>\n",
       "  <div class=\"hDivider\"></div>\n",
       "  <div class=\"trialStatus\">\n",
       "    <h3>Trial Status</h3>\n",
       "    <table>\n",
       "<thead>\n",
       "<tr><th>Trial name              </th><th>status    </th><th>loc              </th><th style=\"text-align: right;\">  batch_size</th><th style=\"text-align: right;\">  learning_rate</th><th style=\"text-align: right;\">  sigma_motifs</th><th style=\"text-align: right;\">  sigma_net</th><th style=\"text-align: right;\">   loss</th><th style=\"text-align: right;\">  training_iteration</th></tr>\n",
       "</thead>\n",
       "<tbody>\n",
       "<tr><td>train_scover_bs_705cfd12</td><td>TERMINATED</td><td>10.160.0.15:34881</td><td style=\"text-align: right;\">         256</td><td style=\"text-align: right;\">    0.000810485</td><td style=\"text-align: right;\">   0.000398894</td><td style=\"text-align: right;\">8.59896e-05</td><td style=\"text-align: right;\">1.8518 </td><td style=\"text-align: right;\">                  10</td></tr>\n",
       "<tr><td>train_scover_bs_75fe813c</td><td>TERMINATED</td><td>10.160.0.15:35051</td><td style=\"text-align: right;\">         128</td><td style=\"text-align: right;\">    0.000265625</td><td style=\"text-align: right;\">   3.44853e-06</td><td style=\"text-align: right;\">0.00165923 </td><td style=\"text-align: right;\">2.11346</td><td style=\"text-align: right;\">                   2</td></tr>\n",
       "</tbody>\n",
       "</table>\n",
       "  </div>\n",
       "</div>\n",
       "<style>\n",
       ".tuneStatus {\n",
       "  color: var(--jp-ui-font-color1);\n",
       "}\n",
       ".tuneStatus .systemInfo {\n",
       "  display: flex;\n",
       "  flex-direction: column;\n",
       "}\n",
       ".tuneStatus td {\n",
       "  white-space: nowrap;\n",
       "}\n",
       ".tuneStatus .trialStatus {\n",
       "  display: flex;\n",
       "  flex-direction: column;\n",
       "}\n",
       ".tuneStatus h3 {\n",
       "  font-weight: bold;\n",
       "}\n",
       ".tuneStatus .hDivider {\n",
       "  border-bottom-width: var(--jp-border-width);\n",
       "  border-bottom-color: var(--jp-border-color0);\n",
       "  border-bottom-style: solid;\n",
       "}\n",
       ".tuneStatus .vDivider {\n",
       "  border-left-width: var(--jp-border-width);\n",
       "  border-left-color: var(--jp-border-color0);\n",
       "  border-left-style: solid;\n",
       "  margin: 0.5em 1em 0.5em 1em;\n",
       "}\n",
       "</style>\n"
      ],
      "text/plain": [
       "<IPython.core.display.HTML object>"
      ]
     },
     "metadata": {},
     "output_type": "display_data"
    },
    {
     "name": "stderr",
     "output_type": "stream",
     "text": [
      "\u001b[2m\u001b[36m(train_scover_bs pid=34881)\u001b[0m GPU available: True, used: True\n",
      "\u001b[2m\u001b[36m(train_scover_bs pid=34881)\u001b[0m TPU available: False, using: 0 TPU cores\n",
      "\u001b[2m\u001b[36m(train_scover_bs pid=34881)\u001b[0m IPU available: False, using: 0 IPUs\n",
      "\u001b[2m\u001b[36m(train_scover_bs pid=34881)\u001b[0m HPU available: False, using: 0 HPUs\n",
      "\u001b[2m\u001b[36m(train_scover_bs pid=34881)\u001b[0m /nfs/team218/jh47/miniconda3/envs/sc/lib/python3.9/site-packages/pytorch_lightning/trainer/configuration_validator.py:335: LightningDeprecationWarning: The `on_keyboard_interrupt` callback hook was deprecated in v1.5 and will be removed in v1.7. Please use the `on_exception` callback hook instead.\n",
      "\u001b[2m\u001b[36m(train_scover_bs pid=34881)\u001b[0m   rank_zero_deprecation(\n",
      "\u001b[2m\u001b[36m(train_scover_bs pid=34881)\u001b[0m /nfs/team218/jh47/miniconda3/envs/sc/lib/python3.9/site-packages/pytorch_lightning/trainer/configuration_validator.py:347: LightningDeprecationWarning: The `on_init_start` callback hook was deprecated in v1.6 and will be removed in v1.8.\n",
      "\u001b[2m\u001b[36m(train_scover_bs pid=34881)\u001b[0m   rank_zero_deprecation(\n",
      "\u001b[2m\u001b[36m(train_scover_bs pid=34881)\u001b[0m /nfs/team218/jh47/miniconda3/envs/sc/lib/python3.9/site-packages/pytorch_lightning/trainer/configuration_validator.py:351: LightningDeprecationWarning: The `on_init_end` callback hook was deprecated in v1.6 and will be removed in v1.8.\n",
      "\u001b[2m\u001b[36m(train_scover_bs pid=34881)\u001b[0m   rank_zero_deprecation(\"The `on_init_end` callback hook was deprecated in v1.6 and will be removed in v1.8.\")\n",
      "\u001b[2m\u001b[36m(train_scover_bs pid=34881)\u001b[0m /nfs/team218/jh47/miniconda3/envs/sc/lib/python3.9/site-packages/pytorch_lightning/trainer/configuration_validator.py:376: LightningDeprecationWarning: The `Callback.on_batch_start` hook was deprecated in v1.6 and will be removed in v1.8. Please use `Callback.on_train_batch_start` instead.\n",
      "\u001b[2m\u001b[36m(train_scover_bs pid=34881)\u001b[0m   rank_zero_deprecation(\n",
      "\u001b[2m\u001b[36m(train_scover_bs pid=34881)\u001b[0m /nfs/team218/jh47/miniconda3/envs/sc/lib/python3.9/site-packages/pytorch_lightning/trainer/configuration_validator.py:376: LightningDeprecationWarning: The `Callback.on_batch_end` hook was deprecated in v1.6 and will be removed in v1.8. Please use `Callback.on_train_batch_end` instead.\n",
      "\u001b[2m\u001b[36m(train_scover_bs pid=34881)\u001b[0m   rank_zero_deprecation(\n",
      "\u001b[2m\u001b[36m(train_scover_bs pid=34881)\u001b[0m /nfs/team218/jh47/miniconda3/envs/sc/lib/python3.9/site-packages/pytorch_lightning/trainer/configuration_validator.py:385: LightningDeprecationWarning: The `Callback.on_epoch_start` hook was deprecated in v1.6 and will be removed in v1.8. Please use `Callback.on_<train/validation/test>_epoch_start` instead.\n",
      "\u001b[2m\u001b[36m(train_scover_bs pid=34881)\u001b[0m   rank_zero_deprecation(\n",
      "\u001b[2m\u001b[36m(train_scover_bs pid=34881)\u001b[0m /nfs/team218/jh47/miniconda3/envs/sc/lib/python3.9/site-packages/pytorch_lightning/trainer/configuration_validator.py:385: LightningDeprecationWarning: The `Callback.on_epoch_end` hook was deprecated in v1.6 and will be removed in v1.8. Please use `Callback.on_<train/validation/test>_epoch_end` instead.\n",
      "\u001b[2m\u001b[36m(train_scover_bs pid=34881)\u001b[0m   rank_zero_deprecation(\n",
      "\u001b[2m\u001b[36m(train_scover_bs pid=34881)\u001b[0m LOCAL_RANK: 0 - CUDA_VISIBLE_DEVICES: [0]\n",
      "\u001b[2m\u001b[36m(train_scover_bs pid=34881)\u001b[0m \n",
      "\u001b[2m\u001b[36m(train_scover_bs pid=34881)\u001b[0m   | Name   | Type      | Params\n",
      "\u001b[2m\u001b[36m(train_scover_bs pid=34881)\u001b[0m -------------------------------------\n",
      "\u001b[2m\u001b[36m(train_scover_bs pid=34881)\u001b[0m 0 | conv_1 | Conv2d    | 36.0 K\n",
      "\u001b[2m\u001b[36m(train_scover_bs pid=34881)\u001b[0m 1 | pool_1 | MaxPool2d | 0     \n",
      "\u001b[2m\u001b[36m(train_scover_bs pid=34881)\u001b[0m 2 | nonlin | ELU       | 0     \n",
      "\u001b[2m\u001b[36m(train_scover_bs pid=34881)\u001b[0m 3 | fc     | Linear    | 60.1 K\n",
      "\u001b[2m\u001b[36m(train_scover_bs pid=34881)\u001b[0m 4 | loss   | MSELoss   | 0     \n",
      "\u001b[2m\u001b[36m(train_scover_bs pid=34881)\u001b[0m -------------------------------------\n",
      "\u001b[2m\u001b[36m(train_scover_bs pid=34881)\u001b[0m 96.1 K    Trainable params\n",
      "\u001b[2m\u001b[36m(train_scover_bs pid=34881)\u001b[0m 0         Non-trainable params\n",
      "\u001b[2m\u001b[36m(train_scover_bs pid=34881)\u001b[0m 96.1 K    Total params\n",
      "\u001b[2m\u001b[36m(train_scover_bs pid=34881)\u001b[0m 0.384     Total estimated model params size (MB)\n",
      "\u001b[2m\u001b[36m(train_scover_bs pid=34881)\u001b[0m /nfs/team218/jh47/miniconda3/envs/sc/lib/python3.9/site-packages/pytorch_lightning/trainer/connectors/data_connector.py:240: PossibleUserWarning: The dataloader, val_dataloader 0, does not have many workers which may be a bottleneck. Consider increasing the value of the `num_workers` argument` (try 80 which is the number of cpus on this machine) in the `DataLoader` init to improve performance.\n",
      "\u001b[2m\u001b[36m(train_scover_bs pid=34881)\u001b[0m   rank_zero_warn(\n",
      "\u001b[2m\u001b[36m(train_scover_bs pid=34881)\u001b[0m /nfs/team218/jh47/miniconda3/envs/sc/lib/python3.9/site-packages/pytorch_lightning/trainer/connectors/data_connector.py:240: PossibleUserWarning: The dataloader, train_dataloader, does not have many workers which may be a bottleneck. Consider increasing the value of the `num_workers` argument` (try 80 which is the number of cpus on this machine) in the `DataLoader` init to improve performance.\n",
      "\u001b[2m\u001b[36m(train_scover_bs pid=34881)\u001b[0m   rank_zero_warn(\n",
      "\u001b[2m\u001b[36m(train_scover_bs pid=34881)\u001b[0m /nfs/team218/jh47/miniconda3/envs/sc/lib/python3.9/site-packages/pytorch_lightning/trainer/trainer.py:1927: PossibleUserWarning: The number of training batches (46) is smaller than the logging interval Trainer(log_every_n_steps=50). Set a lower value for log_every_n_steps if you want to see logs for the training epoch.\n",
      "\u001b[2m\u001b[36m(train_scover_bs pid=34881)\u001b[0m   rank_zero_warn(\n"
     ]
    },
    {
     "data": {
      "text/html": [
       "<div class=\"trialProgress\">\n",
       "  <h3>Trial Progress</h3>\n",
       "  <table>\n",
       "<thead>\n",
       "<tr><th>Trial name              </th><th>date               </th><th>done  </th><th>episodes_total  </th><th>experiment_id                   </th><th>hostname  </th><th style=\"text-align: right;\">  iterations_since_restore</th><th style=\"text-align: right;\">   loss</th><th>node_ip    </th><th style=\"text-align: right;\">  pid</th><th style=\"text-align: right;\">  time_since_restore</th><th style=\"text-align: right;\">  time_this_iter_s</th><th style=\"text-align: right;\">  time_total_s</th><th style=\"text-align: right;\">  timestamp</th><th style=\"text-align: right;\">  timesteps_since_restore</th><th>timesteps_total  </th><th style=\"text-align: right;\">  training_iteration</th><th>trial_id  </th><th style=\"text-align: right;\">  warmup_time</th></tr>\n",
       "</thead>\n",
       "<tbody>\n",
       "<tr><td>train_scover_bs_705cfd12</td><td>2023-06-22_14-56-02</td><td>True  </td><td>                </td><td>81de37ebc59243869b7cd7446c401059</td><td>dgx-c11-02</td><td style=\"text-align: right;\">                        10</td><td style=\"text-align: right;\">1.8518 </td><td>10.160.0.15</td><td style=\"text-align: right;\">34881</td><td style=\"text-align: right;\">            27.7542 </td><td style=\"text-align: right;\">          1.90923 </td><td style=\"text-align: right;\">      27.7542 </td><td style=\"text-align: right;\"> 1687442162</td><td style=\"text-align: right;\">                        0</td><td>                 </td><td style=\"text-align: right;\">                  10</td><td>705cfd12  </td><td style=\"text-align: right;\">   0.00632095</td></tr>\n",
       "<tr><td>train_scover_bs_75fe813c</td><td>2023-06-22_14-56-19</td><td>True  </td><td>                </td><td>8f8868032d48451089a95efe78910126</td><td>dgx-c11-02</td><td style=\"text-align: right;\">                         2</td><td style=\"text-align: right;\">2.11346</td><td>10.160.0.15</td><td style=\"text-align: right;\">35051</td><td style=\"text-align: right;\">             8.39842</td><td style=\"text-align: right;\">          0.990827</td><td style=\"text-align: right;\">       8.39842</td><td style=\"text-align: right;\"> 1687442179</td><td style=\"text-align: right;\">                        0</td><td>                 </td><td style=\"text-align: right;\">                   2</td><td>75fe813c  </td><td style=\"text-align: right;\">   0.0102854 </td></tr>\n",
       "</tbody>\n",
       "</table>\n",
       "</div>\n",
       "<style>\n",
       ".trialProgress {\n",
       "  display: flex;\n",
       "  flex-direction: column;\n",
       "  color: var(--jp-ui-font-color1);\n",
       "}\n",
       ".trialProgress h3 {\n",
       "  font-weight: bold;\n",
       "}\n",
       ".trialProgress td {\n",
       "  white-space: nowrap;\n",
       "}\n",
       "</style>\n"
      ],
      "text/plain": [
       "<IPython.core.display.HTML object>"
      ]
     },
     "metadata": {},
     "output_type": "display_data"
    },
    {
     "name": "stderr",
     "output_type": "stream",
     "text": [
      "\u001b[2m\u001b[36m(train_scover_bs pid=35051)\u001b[0m GPU available: True, used: True\n",
      "\u001b[2m\u001b[36m(train_scover_bs pid=35051)\u001b[0m TPU available: False, using: 0 TPU cores\n",
      "\u001b[2m\u001b[36m(train_scover_bs pid=35051)\u001b[0m IPU available: False, using: 0 IPUs\n",
      "\u001b[2m\u001b[36m(train_scover_bs pid=35051)\u001b[0m HPU available: False, using: 0 HPUs\n",
      "\u001b[2m\u001b[36m(train_scover_bs pid=35051)\u001b[0m /nfs/team218/jh47/miniconda3/envs/sc/lib/python3.9/site-packages/pytorch_lightning/trainer/configuration_validator.py:335: LightningDeprecationWarning: The `on_keyboard_interrupt` callback hook was deprecated in v1.5 and will be removed in v1.7. Please use the `on_exception` callback hook instead.\n",
      "\u001b[2m\u001b[36m(train_scover_bs pid=35051)\u001b[0m   rank_zero_deprecation(\n",
      "\u001b[2m\u001b[36m(train_scover_bs pid=35051)\u001b[0m /nfs/team218/jh47/miniconda3/envs/sc/lib/python3.9/site-packages/pytorch_lightning/trainer/configuration_validator.py:347: LightningDeprecationWarning: The `on_init_start` callback hook was deprecated in v1.6 and will be removed in v1.8.\n",
      "\u001b[2m\u001b[36m(train_scover_bs pid=35051)\u001b[0m   rank_zero_deprecation(\n",
      "\u001b[2m\u001b[36m(train_scover_bs pid=35051)\u001b[0m /nfs/team218/jh47/miniconda3/envs/sc/lib/python3.9/site-packages/pytorch_lightning/trainer/configuration_validator.py:351: LightningDeprecationWarning: The `on_init_end` callback hook was deprecated in v1.6 and will be removed in v1.8.\n",
      "\u001b[2m\u001b[36m(train_scover_bs pid=35051)\u001b[0m   rank_zero_deprecation(\"The `on_init_end` callback hook was deprecated in v1.6 and will be removed in v1.8.\")\n",
      "\u001b[2m\u001b[36m(train_scover_bs pid=35051)\u001b[0m /nfs/team218/jh47/miniconda3/envs/sc/lib/python3.9/site-packages/pytorch_lightning/trainer/configuration_validator.py:376: LightningDeprecationWarning: The `Callback.on_batch_start` hook was deprecated in v1.6 and will be removed in v1.8. Please use `Callback.on_train_batch_start` instead.\n",
      "\u001b[2m\u001b[36m(train_scover_bs pid=35051)\u001b[0m   rank_zero_deprecation(\n",
      "\u001b[2m\u001b[36m(train_scover_bs pid=35051)\u001b[0m /nfs/team218/jh47/miniconda3/envs/sc/lib/python3.9/site-packages/pytorch_lightning/trainer/configuration_validator.py:376: LightningDeprecationWarning: The `Callback.on_batch_end` hook was deprecated in v1.6 and will be removed in v1.8. Please use `Callback.on_train_batch_end` instead.\n",
      "\u001b[2m\u001b[36m(train_scover_bs pid=35051)\u001b[0m   rank_zero_deprecation(\n",
      "\u001b[2m\u001b[36m(train_scover_bs pid=35051)\u001b[0m /nfs/team218/jh47/miniconda3/envs/sc/lib/python3.9/site-packages/pytorch_lightning/trainer/configuration_validator.py:385: LightningDeprecationWarning: The `Callback.on_epoch_start` hook was deprecated in v1.6 and will be removed in v1.8. Please use `Callback.on_<train/validation/test>_epoch_start` instead.\n",
      "\u001b[2m\u001b[36m(train_scover_bs pid=35051)\u001b[0m   rank_zero_deprecation(\n",
      "\u001b[2m\u001b[36m(train_scover_bs pid=35051)\u001b[0m /nfs/team218/jh47/miniconda3/envs/sc/lib/python3.9/site-packages/pytorch_lightning/trainer/configuration_validator.py:385: LightningDeprecationWarning: The `Callback.on_epoch_end` hook was deprecated in v1.6 and will be removed in v1.8. Please use `Callback.on_<train/validation/test>_epoch_end` instead.\n",
      "\u001b[2m\u001b[36m(train_scover_bs pid=35051)\u001b[0m   rank_zero_deprecation(\n",
      "\u001b[2m\u001b[36m(train_scover_bs pid=35051)\u001b[0m LOCAL_RANK: 0 - CUDA_VISIBLE_DEVICES: [0]\n",
      "\u001b[2m\u001b[36m(train_scover_bs pid=35051)\u001b[0m \n",
      "\u001b[2m\u001b[36m(train_scover_bs pid=35051)\u001b[0m   | Name   | Type      | Params\n",
      "\u001b[2m\u001b[36m(train_scover_bs pid=35051)\u001b[0m -------------------------------------\n",
      "\u001b[2m\u001b[36m(train_scover_bs pid=35051)\u001b[0m 0 | conv_1 | Conv2d    | 36.0 K\n",
      "\u001b[2m\u001b[36m(train_scover_bs pid=35051)\u001b[0m 1 | pool_1 | MaxPool2d | 0     \n",
      "\u001b[2m\u001b[36m(train_scover_bs pid=35051)\u001b[0m 2 | nonlin | ELU       | 0     \n",
      "\u001b[2m\u001b[36m(train_scover_bs pid=35051)\u001b[0m 3 | fc     | Linear    | 60.1 K\n",
      "\u001b[2m\u001b[36m(train_scover_bs pid=35051)\u001b[0m 4 | loss   | MSELoss   | 0     \n",
      "\u001b[2m\u001b[36m(train_scover_bs pid=35051)\u001b[0m -------------------------------------\n",
      "\u001b[2m\u001b[36m(train_scover_bs pid=35051)\u001b[0m 96.1 K    Trainable params\n",
      "\u001b[2m\u001b[36m(train_scover_bs pid=35051)\u001b[0m 0         Non-trainable params\n",
      "\u001b[2m\u001b[36m(train_scover_bs pid=35051)\u001b[0m 96.1 K    Total params\n",
      "\u001b[2m\u001b[36m(train_scover_bs pid=35051)\u001b[0m 0.384     Total estimated model params size (MB)\n",
      "\u001b[2m\u001b[36m(train_scover_bs pid=35051)\u001b[0m /nfs/team218/jh47/miniconda3/envs/sc/lib/python3.9/site-packages/pytorch_lightning/trainer/connectors/data_connector.py:240: PossibleUserWarning: The dataloader, val_dataloader 0, does not have many workers which may be a bottleneck. Consider increasing the value of the `num_workers` argument` (try 80 which is the number of cpus on this machine) in the `DataLoader` init to improve performance.\n",
      "\u001b[2m\u001b[36m(train_scover_bs pid=35051)\u001b[0m   rank_zero_warn(\n",
      "\u001b[2m\u001b[36m(train_scover_bs pid=35051)\u001b[0m /nfs/team218/jh47/miniconda3/envs/sc/lib/python3.9/site-packages/pytorch_lightning/trainer/connectors/data_connector.py:240: PossibleUserWarning: The dataloader, train_dataloader, does not have many workers which may be a bottleneck. Consider increasing the value of the `num_workers` argument` (try 80 which is the number of cpus on this machine) in the `DataLoader` init to improve performance.\n",
      "\u001b[2m\u001b[36m(train_scover_bs pid=35051)\u001b[0m   rank_zero_warn(\n",
      "2023-06-22 14:56:19,963\tINFO tune.py:777 -- Total run time: 54.20 seconds (54.05 seconds for the tuning loop).\n",
      "GPU available: True, used: True\n",
      "TPU available: False, using: 0 TPU cores\n",
      "IPU available: False, using: 0 IPUs\n",
      "HPU available: False, using: 0 HPUs\n",
      "LOCAL_RANK: 0 - CUDA_VISIBLE_DEVICES: [0]\n",
      "\n",
      "  | Name   | Type      | Params\n",
      "-------------------------------------\n",
      "0 | conv_1 | Conv2d    | 28.8 K\n",
      "1 | pool_1 | MaxPool2d | 0     \n",
      "2 | nonlin | ELU       | 0     \n",
      "3 | fc     | Linear    | 60.1 K\n",
      "4 | loss   | MSELoss   | 0     \n",
      "-------------------------------------\n",
      "88.9 K    Trainable params\n",
      "0         Non-trainable params\n",
      "88.9 K    Total params\n",
      "0.356     Total estimated model params size (MB)\n"
     ]
    },
    {
     "name": "stdout",
     "output_type": "stream",
     "text": [
      "Best hyperparameters found were:  {'batch_size': 256, 'learning_rate': 0.0008104849235201821, 'sigma_motifs': 0.0003988943148765434, 'sigma_net': 8.598964091796609e-05}\n"
     ]
    },
    {
     "data": {
      "application/vnd.jupyter.widget-view+json": {
       "model_id": "",
       "version_major": 2,
       "version_minor": 0
      },
      "text/plain": [
       "Sanity Checking: 0it [00:00, ?it/s]"
      ]
     },
     "metadata": {},
     "output_type": "display_data"
    },
    {
     "name": "stderr",
     "output_type": "stream",
     "text": [
      "/nfs/team218/jh47/miniconda3/envs/sc/lib/python3.9/site-packages/pytorch_lightning/trainer/connectors/data_connector.py:240: PossibleUserWarning: The dataloader, val_dataloader 0, does not have many workers which may be a bottleneck. Consider increasing the value of the `num_workers` argument` (try 80 which is the number of cpus on this machine) in the `DataLoader` init to improve performance.\n",
      "  rank_zero_warn(\n",
      "/nfs/team218/jh47/miniconda3/envs/sc/lib/python3.9/site-packages/pytorch_lightning/trainer/connectors/data_connector.py:240: PossibleUserWarning: The dataloader, train_dataloader, does not have many workers which may be a bottleneck. Consider increasing the value of the `num_workers` argument` (try 80 which is the number of cpus on this machine) in the `DataLoader` init to improve performance.\n",
      "  rank_zero_warn(\n",
      "/nfs/team218/jh47/miniconda3/envs/sc/lib/python3.9/site-packages/pytorch_lightning/trainer/trainer.py:1927: PossibleUserWarning: The number of training batches (46) is smaller than the logging interval Trainer(log_every_n_steps=50). Set a lower value for log_every_n_steps if you want to see logs for the training epoch.\n",
      "  rank_zero_warn(\n"
     ]
    },
    {
     "data": {
      "application/vnd.jupyter.widget-view+json": {
       "model_id": "8d6fc3d624274b5aba56e0659640326d",
       "version_major": 2,
       "version_minor": 0
      },
      "text/plain": [
       "Training: 0it [00:00, ?it/s]"
      ]
     },
     "metadata": {},
     "output_type": "display_data"
    },
    {
     "data": {
      "application/vnd.jupyter.widget-view+json": {
       "model_id": "",
       "version_major": 2,
       "version_minor": 0
      },
      "text/plain": [
       "Validation: 0it [00:00, ?it/s]"
      ]
     },
     "metadata": {},
     "output_type": "display_data"
    },
    {
     "data": {
      "application/vnd.jupyter.widget-view+json": {
       "model_id": "",
       "version_major": 2,
       "version_minor": 0
      },
      "text/plain": [
       "Validation: 0it [00:00, ?it/s]"
      ]
     },
     "metadata": {},
     "output_type": "display_data"
    },
    {
     "data": {
      "application/vnd.jupyter.widget-view+json": {
       "model_id": "",
       "version_major": 2,
       "version_minor": 0
      },
      "text/plain": [
       "Validation: 0it [00:00, ?it/s]"
      ]
     },
     "metadata": {},
     "output_type": "display_data"
    },
    {
     "data": {
      "application/vnd.jupyter.widget-view+json": {
       "model_id": "",
       "version_major": 2,
       "version_minor": 0
      },
      "text/plain": [
       "Validation: 0it [00:00, ?it/s]"
      ]
     },
     "metadata": {},
     "output_type": "display_data"
    },
    {
     "data": {
      "application/vnd.jupyter.widget-view+json": {
       "model_id": "",
       "version_major": 2,
       "version_minor": 0
      },
      "text/plain": [
       "Validation: 0it [00:00, ?it/s]"
      ]
     },
     "metadata": {},
     "output_type": "display_data"
    },
    {
     "data": {
      "application/vnd.jupyter.widget-view+json": {
       "model_id": "",
       "version_major": 2,
       "version_minor": 0
      },
      "text/plain": [
       "Validation: 0it [00:00, ?it/s]"
      ]
     },
     "metadata": {},
     "output_type": "display_data"
    },
    {
     "data": {
      "application/vnd.jupyter.widget-view+json": {
       "model_id": "",
       "version_major": 2,
       "version_minor": 0
      },
      "text/plain": [
       "Validation: 0it [00:00, ?it/s]"
      ]
     },
     "metadata": {},
     "output_type": "display_data"
    },
    {
     "data": {
      "application/vnd.jupyter.widget-view+json": {
       "model_id": "",
       "version_major": 2,
       "version_minor": 0
      },
      "text/plain": [
       "Validation: 0it [00:00, ?it/s]"
      ]
     },
     "metadata": {},
     "output_type": "display_data"
    },
    {
     "data": {
      "application/vnd.jupyter.widget-view+json": {
       "model_id": "",
       "version_major": 2,
       "version_minor": 0
      },
      "text/plain": [
       "Validation: 0it [00:00, ?it/s]"
      ]
     },
     "metadata": {},
     "output_type": "display_data"
    },
    {
     "data": {
      "application/vnd.jupyter.widget-view+json": {
       "model_id": "",
       "version_major": 2,
       "version_minor": 0
      },
      "text/plain": [
       "Validation: 0it [00:00, ?it/s]"
      ]
     },
     "metadata": {},
     "output_type": "display_data"
    }
   ],
   "source": [
    "pickle.dump(idx_sets, open(f\"models/{exp_name}_backup_idx_sets.p\", \"wb\"))\n",
    "\n",
    "all_analyses = []\n",
    "for curr_outer in range(k_outer):\n",
    "    curr_train_idx = idx_sets['inner_train'][curr_outer]\n",
    "    curr_val_idx = idx_sets['val'][curr_outer]\n",
    "    curr_test_idx = idx_sets['test'][curr_outer]\n",
    "    train_data = SeqDataset(X_seqs[curr_train_idx],\n",
    "                            X_data[curr_train_idx],\n",
    "                            dtype=\"float\")\n",
    "    val_data = SeqDataset(X_seqs[curr_val_idx],\n",
    "                          X_data[curr_val_idx],\n",
    "                          dtype=\"float\")\n",
    "    curr_analysis = tune_scover_asha_hyperopt(\n",
    "        train_data,\n",
    "        val_data,\n",
    "        num_samples=trials_per_outer,\n",
    "        num_epochs=epochs_per_hyperparam_opt,\n",
    "        local_dir=f\"./{exp_name}_tune\",\n",
    "        prefix=f\"{exp_name}_\" + str(curr_outer),\n",
    "        gpus_per_trial=1 if num_gpus > 0 else 0,\n",
    "        use_elu=True)\n",
    "    all_analyses.append(curr_analysis)\n",
    "    best_config = curr_analysis.get_best_config(metric='loss', mode='min')\n",
    "    train_loader = DataLoader(train_data,\n",
    "                              batch_size=best_config[\"batch_size\"],\n",
    "                              num_workers=2,\n",
    "                              shuffle=True)\n",
    "    val_loader = DataLoader(val_data,\n",
    "                            batch_size=best_config[\"batch_size\"],\n",
    "                            num_workers=2,\n",
    "                            shuffle=False)\n",
    "    seq_length = train_loader.dataset[0][0].shape[1]\n",
    "    output_size = train_loader.dataset[0][1].shape[0]\n",
    "    sn = SeqNet(seq_length=seq_length,\n",
    "                output_size=output_size,\n",
    "                learning_rate=best_config[\"learning_rate\"],\n",
    "                motif_length=12,\n",
    "                num_motifs=600,\n",
    "                sigma_motifs=best_config[\"sigma_motifs\"],\n",
    "                sigma_net=best_config[\"sigma_net\"],\n",
    "        use_elu=True)\n",
    "    early_stop_callback = EarlyStopping(monitor='ptl/val_loss',\n",
    "                                        patience=4,\n",
    "                                        verbose=False,\n",
    "                                        mode='min')\n",
    "    trainer = pl.Trainer(max_epochs=final_epochs,\n",
    "                         gpus=1 if num_gpus > 0 else 0,\n",
    "                         callbacks=[early_stop_callback])\n",
    "    trainer.fit(sn, train_loader, val_loader)\n",
    "    state_dict_path = f\"models/{exp_name}_trained_outer_\" + str(\n",
    "        curr_outer) + \".p\"\n",
    "    torch.save(sn.state_dict(), state_dict_path)\n",
    "\n",
    "all_best_configs = [\n",
    "    x.get_best_config(metric=\"loss\", mode=\"min\") for x in all_analyses\n",
    "]\n",
    "pickle.dump(all_best_configs,\n",
    "            open(f\"models/{exp_name}_backup_all_best_configs.p\", \"wb\"))"
   ]
  },
  {
   "cell_type": "markdown",
   "id": "1d14e81e",
   "metadata": {},
   "source": [
    "## Calculate PWMs of motifs\n",
    "\n",
    "The PWMs are representations of what subsequences are activated by each of the convolutional filters in the neural network."
   ]
  },
  {
   "cell_type": "code",
   "execution_count": 12,
   "id": "241c0314",
   "metadata": {},
   "outputs": [
    {
     "data": {
      "application/vnd.jupyter.widget-view+json": {
       "model_id": "6938fdb492164483a2ba158f7fa85012",
       "version_major": 2,
       "version_minor": 0
      },
      "text/plain": [
       "  0%|          | 0/92 [00:00<?, ?it/s]"
      ]
     },
     "metadata": {},
     "output_type": "display_data"
    },
    {
     "data": {
      "application/vnd.jupyter.widget-view+json": {
       "model_id": "0562c849c68d4cf3a61e9490242a9d61",
       "version_major": 2,
       "version_minor": 0
      },
      "text/plain": [
       "  0%|          | 0/600 [00:00<?, ?it/s]"
      ]
     },
     "metadata": {},
     "output_type": "display_data"
    },
    {
     "data": {
      "application/vnd.jupyter.widget-view+json": {
       "model_id": "613795b514b04a45aa89f5602745d67e",
       "version_major": 2,
       "version_minor": 0
      },
      "text/plain": [
       "  0%|          | 0/92 [00:00<?, ?it/s]"
      ]
     },
     "metadata": {},
     "output_type": "display_data"
    },
    {
     "data": {
      "application/vnd.jupyter.widget-view+json": {
       "model_id": "045e497451004ca1bba0323521c57b15",
       "version_major": 2,
       "version_minor": 0
      },
      "text/plain": [
       "  0%|          | 0/600 [00:00<?, ?it/s]"
      ]
     },
     "metadata": {},
     "output_type": "display_data"
    },
    {
     "data": {
      "application/vnd.jupyter.widget-view+json": {
       "model_id": "1651f4f4d9b947ac9d87e1336dbc58ae",
       "version_major": 2,
       "version_minor": 0
      },
      "text/plain": [
       "  0%|          | 0/92 [00:00<?, ?it/s]"
      ]
     },
     "metadata": {},
     "output_type": "display_data"
    },
    {
     "data": {
      "application/vnd.jupyter.widget-view+json": {
       "model_id": "ec197536137c4af3b179837ddaf0f311",
       "version_major": 2,
       "version_minor": 0
      },
      "text/plain": [
       "  0%|          | 0/600 [00:00<?, ?it/s]"
      ]
     },
     "metadata": {},
     "output_type": "display_data"
    },
    {
     "data": {
      "application/vnd.jupyter.widget-view+json": {
       "model_id": "d4b93665ee294e87b0e6a65cee063ba6",
       "version_major": 2,
       "version_minor": 0
      },
      "text/plain": [
       "  0%|          | 0/92 [00:00<?, ?it/s]"
      ]
     },
     "metadata": {},
     "output_type": "display_data"
    },
    {
     "data": {
      "application/vnd.jupyter.widget-view+json": {
       "model_id": "7a70c001919c4b9f9c4fed84430e5b8a",
       "version_major": 2,
       "version_minor": 0
      },
      "text/plain": [
       "  0%|          | 0/600 [00:00<?, ?it/s]"
      ]
     },
     "metadata": {},
     "output_type": "display_data"
    },
    {
     "data": {
      "application/vnd.jupyter.widget-view+json": {
       "model_id": "03e80056ffb143728630249ea8c6b35a",
       "version_major": 2,
       "version_minor": 0
      },
      "text/plain": [
       "  0%|          | 0/92 [00:00<?, ?it/s]"
      ]
     },
     "metadata": {},
     "output_type": "display_data"
    },
    {
     "data": {
      "application/vnd.jupyter.widget-view+json": {
       "model_id": "5da8cb5e49df4b56a196c796f75fbc74",
       "version_major": 2,
       "version_minor": 0
      },
      "text/plain": [
       "  0%|          | 0/600 [00:00<?, ?it/s]"
      ]
     },
     "metadata": {},
     "output_type": "display_data"
    },
    {
     "data": {
      "application/vnd.jupyter.widget-view+json": {
       "model_id": "38e9feb63d3f41f0affefb47c2cc3f73",
       "version_major": 2,
       "version_minor": 0
      },
      "text/plain": [
       "  0%|          | 0/92 [00:00<?, ?it/s]"
      ]
     },
     "metadata": {},
     "output_type": "display_data"
    },
    {
     "data": {
      "application/vnd.jupyter.widget-view+json": {
       "model_id": "f70cc2d8aa5c46acb18f0f4147101805",
       "version_major": 2,
       "version_minor": 0
      },
      "text/plain": [
       "  0%|          | 0/600 [00:00<?, ?it/s]"
      ]
     },
     "metadata": {},
     "output_type": "display_data"
    },
    {
     "data": {
      "application/vnd.jupyter.widget-view+json": {
       "model_id": "cbd7b008aed0403e81d0dd6059abe266",
       "version_major": 2,
       "version_minor": 0
      },
      "text/plain": [
       "  0%|          | 0/92 [00:00<?, ?it/s]"
      ]
     },
     "metadata": {},
     "output_type": "display_data"
    },
    {
     "data": {
      "application/vnd.jupyter.widget-view+json": {
       "model_id": "9a31bacd1d7c448abaf8e3a8546c6dc0",
       "version_major": 2,
       "version_minor": 0
      },
      "text/plain": [
       "  0%|          | 0/600 [00:00<?, ?it/s]"
      ]
     },
     "metadata": {},
     "output_type": "display_data"
    },
    {
     "data": {
      "application/vnd.jupyter.widget-view+json": {
       "model_id": "e2f717ec397044a7b297fc5c6d73f5cd",
       "version_major": 2,
       "version_minor": 0
      },
      "text/plain": [
       "  0%|          | 0/92 [00:00<?, ?it/s]"
      ]
     },
     "metadata": {},
     "output_type": "display_data"
    },
    {
     "data": {
      "application/vnd.jupyter.widget-view+json": {
       "model_id": "744c135a8dcc4dda87ff9a3b9477de64",
       "version_major": 2,
       "version_minor": 0
      },
      "text/plain": [
       "  0%|          | 0/600 [00:00<?, ?it/s]"
      ]
     },
     "metadata": {},
     "output_type": "display_data"
    },
    {
     "data": {
      "application/vnd.jupyter.widget-view+json": {
       "model_id": "0bf55a8b68b64b6683351e2e906bf363",
       "version_major": 2,
       "version_minor": 0
      },
      "text/plain": [
       "  0%|          | 0/92 [00:00<?, ?it/s]"
      ]
     },
     "metadata": {},
     "output_type": "display_data"
    },
    {
     "data": {
      "application/vnd.jupyter.widget-view+json": {
       "model_id": "77164b0f662f44c0b50c099acb39512f",
       "version_major": 2,
       "version_minor": 0
      },
      "text/plain": [
       "  0%|          | 0/600 [00:00<?, ?it/s]"
      ]
     },
     "metadata": {},
     "output_type": "display_data"
    },
    {
     "data": {
      "application/vnd.jupyter.widget-view+json": {
       "model_id": "75839ae1fc7e4954a4d58032c993087f",
       "version_major": 2,
       "version_minor": 0
      },
      "text/plain": [
       "  0%|          | 0/92 [00:00<?, ?it/s]"
      ]
     },
     "metadata": {},
     "output_type": "display_data"
    },
    {
     "data": {
      "application/vnd.jupyter.widget-view+json": {
       "model_id": "677e8dfe785a426484d9748214c7582a",
       "version_major": 2,
       "version_minor": 0
      },
      "text/plain": [
       "  0%|          | 0/600 [00:00<?, ?it/s]"
      ]
     },
     "metadata": {},
     "output_type": "display_data"
    }
   ],
   "source": [
    "all_pfm_dicts = {}\n",
    "all_ppm_dicts = {}\n",
    "for curr_outer in range(k_outer):\n",
    "    curr_train_idx = idx_sets['inner_train'][curr_outer]\n",
    "    curr_test_idx = idx_sets['test'][curr_outer]\n",
    "    curr_val_idx = idx_sets['val'][curr_outer]\n",
    "\n",
    "    train_data = SeqDataset(X_seqs[curr_train_idx],\n",
    "                            X_data[curr_train_idx],\n",
    "                            dtype=\"float\")\n",
    "    train_loader = DataLoader(train_data,\n",
    "                              batch_size=128,\n",
    "                              num_workers=0,\n",
    "                              shuffle=False)\n",
    "\n",
    "    sn = SeqNet(seq_length=seq_length,\n",
    "                output_size=output_size,\n",
    "                learning_rate=all_best_configs[curr_outer][\"learning_rate\"],\n",
    "                motif_length=12,\n",
    "                num_motifs=600,\n",
    "                sigma_motifs=all_best_configs[curr_outer][\"sigma_motifs\"],\n",
    "                sigma_net=all_best_configs[curr_outer][\"sigma_net\"],\n",
    "                use_elu=True)\n",
    "    state_dict_path = f\"models/{exp_name}_trained_outer_\" + str(\n",
    "        curr_outer) + \".p\"\n",
    "    sn.load_state_dict(torch.load(state_dict_path))\n",
    "\n",
    "    sn = sn.to(torch.device('cuda'))\n",
    "    sn.eval()\n",
    "\n",
    "    curr_pfm_dict, curr_ppm_dict = align_conv_filters(sn, train_loader)\n",
    "\n",
    "    all_pfm_dicts[curr_outer] = curr_pfm_dict\n",
    "    all_ppm_dicts[curr_outer] = curr_ppm_dict"
   ]
  },
  {
   "cell_type": "markdown",
   "id": "9bec335c",
   "metadata": {},
   "source": [
    "## Save MEME file with motifs"
   ]
  },
  {
   "cell_type": "code",
   "execution_count": 13,
   "id": "de2501ac",
   "metadata": {},
   "outputs": [
    {
     "name": "stdout",
     "output_type": "stream",
     "text": [
      "wrote meme list\n"
     ]
    }
   ],
   "source": [
    "all_motifs_ppm_dict = {}\n",
    "for i, can_nr in enumerate(range(k_outer)):\n",
    "    for key in all_ppm_dicts[i].keys():\n",
    "        all_motifs_ppm_dict[str(can_nr) + \"_\" + key] = all_ppm_dicts[i][key]\n",
    "\n",
    "# Save big MEME file with all motifs\n",
    "all_meme_output_path = f\"output/{exp_name}_all_MEME_motifs.txt\"\n",
    "save_meme(all_motifs_ppm_dict, all_meme_output_path)"
   ]
  },
  {
   "cell_type": "code",
   "execution_count": 14,
   "id": "881a0b64",
   "metadata": {},
   "outputs": [],
   "source": [
    "all_motifs_pfm_dict = {}\n",
    "for i, can_nr in enumerate(range(k_outer)):\n",
    "    for key in all_pfm_dicts[i].keys():\n",
    "        all_motifs_pfm_dict[str(can_nr) + \"_\" + key] = all_pfm_dicts[i][key]\n",
    "pickle.dump(all_motifs_pfm_dict,\n",
    "            open(f\"output/{exp_name}_all_motifs_pfm_dict.p\", \"wb\"))"
   ]
  },
  {
   "cell_type": "markdown",
   "id": "497f6bf6",
   "metadata": {},
   "source": [
    "## Calculate influence scores\n",
    "\n",
    "This is how to calculate the influence scores for individual convolutional filters for setting their weights to 0 and assessing the difference in the output (a bit like a saturation mutagenesis experiment, but at the level of feature extraction rather than the input). Here the influence scores are abbreviated LOO for leave-one-out."
   ]
  },
  {
   "cell_type": "code",
   "execution_count": 15,
   "id": "fa0275ec",
   "metadata": {},
   "outputs": [
    {
     "data": {
      "application/vnd.jupyter.widget-view+json": {
       "model_id": "e94d894ee39b425aa7dd6f119cb94b07",
       "version_major": 2,
       "version_minor": 0
      },
      "text/plain": [
       "  0%|          | 0/23 [00:00<?, ?it/s]"
      ]
     },
     "metadata": {},
     "output_type": "display_data"
    },
    {
     "data": {
      "application/vnd.jupyter.widget-view+json": {
       "model_id": "d4f93f631bd747c8b922b6b7bdefe871",
       "version_major": 2,
       "version_minor": 0
      },
      "text/plain": [
       "  0%|          | 0/23 [00:00<?, ?it/s]"
      ]
     },
     "metadata": {},
     "output_type": "display_data"
    },
    {
     "data": {
      "application/vnd.jupyter.widget-view+json": {
       "model_id": "749696a13220490a8b0ebee7dd4e66de",
       "version_major": 2,
       "version_minor": 0
      },
      "text/plain": [
       "  0%|          | 0/600 [00:00<?, ?it/s]"
      ]
     },
     "metadata": {},
     "output_type": "display_data"
    },
    {
     "data": {
      "application/vnd.jupyter.widget-view+json": {
       "model_id": "4519609a23c4491d903979f2bff19900",
       "version_major": 2,
       "version_minor": 0
      },
      "text/plain": [
       "  0%|          | 0/23 [00:00<?, ?it/s]"
      ]
     },
     "metadata": {},
     "output_type": "display_data"
    },
    {
     "data": {
      "application/vnd.jupyter.widget-view+json": {
       "model_id": "97509e8a357545c5a436c61f1aa9e640",
       "version_major": 2,
       "version_minor": 0
      },
      "text/plain": [
       "  0%|          | 0/23 [00:00<?, ?it/s]"
      ]
     },
     "metadata": {},
     "output_type": "display_data"
    },
    {
     "data": {
      "application/vnd.jupyter.widget-view+json": {
       "model_id": "c2a0b1b5b8bc4e17a906c488cdf06e4f",
       "version_major": 2,
       "version_minor": 0
      },
      "text/plain": [
       "  0%|          | 0/600 [00:00<?, ?it/s]"
      ]
     },
     "metadata": {},
     "output_type": "display_data"
    },
    {
     "data": {
      "application/vnd.jupyter.widget-view+json": {
       "model_id": "671ea5923e9647feaf7f3f58a235dd39",
       "version_major": 2,
       "version_minor": 0
      },
      "text/plain": [
       "  0%|          | 0/23 [00:00<?, ?it/s]"
      ]
     },
     "metadata": {},
     "output_type": "display_data"
    },
    {
     "data": {
      "application/vnd.jupyter.widget-view+json": {
       "model_id": "db6c78c51b004778a977bbe93339c588",
       "version_major": 2,
       "version_minor": 0
      },
      "text/plain": [
       "  0%|          | 0/23 [00:00<?, ?it/s]"
      ]
     },
     "metadata": {},
     "output_type": "display_data"
    },
    {
     "data": {
      "application/vnd.jupyter.widget-view+json": {
       "model_id": "20475ddcb42843448d6fdd993d515625",
       "version_major": 2,
       "version_minor": 0
      },
      "text/plain": [
       "  0%|          | 0/600 [00:00<?, ?it/s]"
      ]
     },
     "metadata": {},
     "output_type": "display_data"
    },
    {
     "data": {
      "application/vnd.jupyter.widget-view+json": {
       "model_id": "45f207185dee4f43b17c6b2f5ed64abe",
       "version_major": 2,
       "version_minor": 0
      },
      "text/plain": [
       "  0%|          | 0/23 [00:00<?, ?it/s]"
      ]
     },
     "metadata": {},
     "output_type": "display_data"
    },
    {
     "data": {
      "application/vnd.jupyter.widget-view+json": {
       "model_id": "3a633d2b88274d53932abfb1db5969f9",
       "version_major": 2,
       "version_minor": 0
      },
      "text/plain": [
       "  0%|          | 0/23 [00:00<?, ?it/s]"
      ]
     },
     "metadata": {},
     "output_type": "display_data"
    },
    {
     "data": {
      "application/vnd.jupyter.widget-view+json": {
       "model_id": "825b6beca9d3482e8290cf0640ef931a",
       "version_major": 2,
       "version_minor": 0
      },
      "text/plain": [
       "  0%|          | 0/600 [00:00<?, ?it/s]"
      ]
     },
     "metadata": {},
     "output_type": "display_data"
    },
    {
     "data": {
      "application/vnd.jupyter.widget-view+json": {
       "model_id": "2956c9e1192549c2909834fd31d1b905",
       "version_major": 2,
       "version_minor": 0
      },
      "text/plain": [
       "  0%|          | 0/23 [00:00<?, ?it/s]"
      ]
     },
     "metadata": {},
     "output_type": "display_data"
    },
    {
     "data": {
      "application/vnd.jupyter.widget-view+json": {
       "model_id": "6c5e2220511a4f98817a52b4b28c915d",
       "version_major": 2,
       "version_minor": 0
      },
      "text/plain": [
       "  0%|          | 0/23 [00:00<?, ?it/s]"
      ]
     },
     "metadata": {},
     "output_type": "display_data"
    },
    {
     "data": {
      "application/vnd.jupyter.widget-view+json": {
       "model_id": "743b0f823da848aab9b62cb86f14f202",
       "version_major": 2,
       "version_minor": 0
      },
      "text/plain": [
       "  0%|          | 0/600 [00:00<?, ?it/s]"
      ]
     },
     "metadata": {},
     "output_type": "display_data"
    },
    {
     "data": {
      "application/vnd.jupyter.widget-view+json": {
       "model_id": "ba4c362d55a44f12b7ecc5e1e19ed404",
       "version_major": 2,
       "version_minor": 0
      },
      "text/plain": [
       "  0%|          | 0/23 [00:00<?, ?it/s]"
      ]
     },
     "metadata": {},
     "output_type": "display_data"
    },
    {
     "data": {
      "application/vnd.jupyter.widget-view+json": {
       "model_id": "f92c30f2fb894416837699866d04027e",
       "version_major": 2,
       "version_minor": 0
      },
      "text/plain": [
       "  0%|          | 0/23 [00:00<?, ?it/s]"
      ]
     },
     "metadata": {},
     "output_type": "display_data"
    },
    {
     "data": {
      "application/vnd.jupyter.widget-view+json": {
       "model_id": "fb231b634ad44fec82375345261fe29e",
       "version_major": 2,
       "version_minor": 0
      },
      "text/plain": [
       "  0%|          | 0/600 [00:00<?, ?it/s]"
      ]
     },
     "metadata": {},
     "output_type": "display_data"
    },
    {
     "data": {
      "application/vnd.jupyter.widget-view+json": {
       "model_id": "0fce72e9c5734cfaaece557186d800ac",
       "version_major": 2,
       "version_minor": 0
      },
      "text/plain": [
       "  0%|          | 0/23 [00:00<?, ?it/s]"
      ]
     },
     "metadata": {},
     "output_type": "display_data"
    },
    {
     "data": {
      "application/vnd.jupyter.widget-view+json": {
       "model_id": "8da9b26bd71645f387aa7f9414883887",
       "version_major": 2,
       "version_minor": 0
      },
      "text/plain": [
       "  0%|          | 0/23 [00:00<?, ?it/s]"
      ]
     },
     "metadata": {},
     "output_type": "display_data"
    },
    {
     "data": {
      "application/vnd.jupyter.widget-view+json": {
       "model_id": "6215546983054bf1950db28d2b84f322",
       "version_major": 2,
       "version_minor": 0
      },
      "text/plain": [
       "  0%|          | 0/600 [00:00<?, ?it/s]"
      ]
     },
     "metadata": {},
     "output_type": "display_data"
    },
    {
     "data": {
      "application/vnd.jupyter.widget-view+json": {
       "model_id": "c30e81dcb81e42c4a07c5bd6c02f1630",
       "version_major": 2,
       "version_minor": 0
      },
      "text/plain": [
       "  0%|          | 0/23 [00:00<?, ?it/s]"
      ]
     },
     "metadata": {},
     "output_type": "display_data"
    },
    {
     "data": {
      "application/vnd.jupyter.widget-view+json": {
       "model_id": "bcee420f30744693a1114cb3d5381b54",
       "version_major": 2,
       "version_minor": 0
      },
      "text/plain": [
       "  0%|          | 0/23 [00:00<?, ?it/s]"
      ]
     },
     "metadata": {},
     "output_type": "display_data"
    },
    {
     "data": {
      "application/vnd.jupyter.widget-view+json": {
       "model_id": "ab4327e3603c4911afc9851bf3331bd3",
       "version_major": 2,
       "version_minor": 0
      },
      "text/plain": [
       "  0%|          | 0/600 [00:00<?, ?it/s]"
      ]
     },
     "metadata": {},
     "output_type": "display_data"
    },
    {
     "data": {
      "application/vnd.jupyter.widget-view+json": {
       "model_id": "af1f30bc2e8e4eee97311e1667976c92",
       "version_major": 2,
       "version_minor": 0
      },
      "text/plain": [
       "  0%|          | 0/23 [00:00<?, ?it/s]"
      ]
     },
     "metadata": {},
     "output_type": "display_data"
    },
    {
     "data": {
      "application/vnd.jupyter.widget-view+json": {
       "model_id": "c0d51c5ba8234e5c965614d1d3709815",
       "version_major": 2,
       "version_minor": 0
      },
      "text/plain": [
       "  0%|          | 0/23 [00:00<?, ?it/s]"
      ]
     },
     "metadata": {},
     "output_type": "display_data"
    },
    {
     "data": {
      "application/vnd.jupyter.widget-view+json": {
       "model_id": "1d54b78319c84af29a828eb578c60f2f",
       "version_major": 2,
       "version_minor": 0
      },
      "text/plain": [
       "  0%|          | 0/600 [00:00<?, ?it/s]"
      ]
     },
     "metadata": {},
     "output_type": "display_data"
    },
    {
     "data": {
      "application/vnd.jupyter.widget-view+json": {
       "model_id": "5e066532dd064be58809593c07a97d7e",
       "version_major": 2,
       "version_minor": 0
      },
      "text/plain": [
       "  0%|          | 0/23 [00:00<?, ?it/s]"
      ]
     },
     "metadata": {},
     "output_type": "display_data"
    },
    {
     "data": {
      "application/vnd.jupyter.widget-view+json": {
       "model_id": "90707280b1da4f179b0a5459cb9790d4",
       "version_major": 2,
       "version_minor": 0
      },
      "text/plain": [
       "  0%|          | 0/23 [00:00<?, ?it/s]"
      ]
     },
     "metadata": {},
     "output_type": "display_data"
    },
    {
     "data": {
      "application/vnd.jupyter.widget-view+json": {
       "model_id": "8bdb6ed8ecc8492f8e6ed7ca45652b9c",
       "version_major": 2,
       "version_minor": 0
      },
      "text/plain": [
       "  0%|          | 0/600 [00:00<?, ?it/s]"
      ]
     },
     "metadata": {},
     "output_type": "display_data"
    }
   ],
   "source": [
    "all_loo_scores = np.zeros((600 * k_outer, output_size))\n",
    "for curr_outer in range(k_outer):\n",
    "    curr_train_idx = idx_sets['inner_train'][curr_outer]\n",
    "    curr_test_idx = idx_sets['test'][curr_outer]\n",
    "    curr_val_idx = idx_sets['val'][curr_outer]\n",
    "\n",
    "    val_data = SeqDataset(X_seqs[curr_val_idx],\n",
    "                          X_data[curr_val_idx],\n",
    "                          dtype=\"float\")\n",
    "    val_loader = DataLoader(val_data,\n",
    "                            batch_size=128,\n",
    "                            num_workers=0,\n",
    "                            shuffle=False)\n",
    "\n",
    "    sn = SeqNet(seq_length=seq_length,\n",
    "                output_size=output_size,\n",
    "                learning_rate=all_best_configs[curr_outer][\"learning_rate\"],\n",
    "                motif_length=12,\n",
    "                num_motifs=600,\n",
    "                sigma_motifs=all_best_configs[curr_outer][\"sigma_motifs\"],\n",
    "                sigma_net=all_best_configs[curr_outer][\"sigma_net\"],\n",
    "                use_elu=True)\n",
    "\n",
    "    # Load current candidate model\n",
    "    state_dict_path = f\"models/{exp_name}_trained_outer_\" + str(\n",
    "        curr_outer) + \".p\"\n",
    "    sn.load_state_dict(torch.load(state_dict_path))\n",
    "\n",
    "    sn = sn.to(torch.device('cuda'))\n",
    "    sn.eval()\n",
    "\n",
    "    data_loader = val_loader\n",
    "    device = torch.device(\"cuda\")\n",
    "\n",
    "    n_seq = len(data_loader.dataset)\n",
    "    seq_len = data_loader.dataset[0][0].shape[1]\n",
    "    d = sn.conv_1.weight.shape[0]\n",
    "    m = sn.conv_1.weight.shape[2]\n",
    "\n",
    "    fc_cpu = copy.deepcopy(sn.fc).cpu()\n",
    "\n",
    "    # Get activations\n",
    "    activations = torch.FloatTensor(size=(n_seq, d, 1,\n",
    "                                          1))  # assumes padding=0, strides=1\n",
    "    curr_i = 0\n",
    "    for idx, (seqs, vals) in enumerate(tqdm(data_loader)):\n",
    "        curr_batch_size = len(seqs)\n",
    "        seqs = seqs.to(device)\n",
    "        with torch.no_grad():\n",
    "            activations[curr_i:curr_i + curr_batch_size, :, :, :] = sn.pool_1(\n",
    "                sn.nonlin(sn.conv_1(seqs))).detach().cpu()\n",
    "        curr_i += curr_batch_size\n",
    "\n",
    "    # Get normal prediction\n",
    "    normal_prediction = torch.FloatTensor(size=(n_seq, sn.output_size))\n",
    "    curr_i = 0\n",
    "    for idx, (seqs, vals) in enumerate(tqdm(data_loader)):\n",
    "        curr_batch_size = len(seqs)\n",
    "        seqs = seqs.to(device)\n",
    "        with torch.no_grad():\n",
    "            normal_prediction[curr_i:curr_i + curr_batch_size, :] = sn(seqs)\n",
    "        curr_i += curr_batch_size\n",
    "    normal_prediction = normal_prediction.numpy()\n",
    "\n",
    "    # Using the model activations, predict the output when iteratively setting a motif to zeroes only.\n",
    "    zeroes_fill = torch.zeros((activations.shape[0], 1, 1)).cpu()\n",
    "    left_out_curr_model = np.zeros((sn.num_motifs, sn.output_size))\n",
    "    for i in tqdm(range(d)):\n",
    "        curr_set_0 = torch.clone(activations)\n",
    "        curr_set_0[:, i, :, :] = torch.clone(zeroes_fill)\n",
    "        curr_set_0 = curr_set_0.view(-1, d)\n",
    "        all_loo_scores[(sn.num_motifs * curr_outer) + i, :] = np.mean(\n",
    "            normal_prediction - fc_cpu(curr_set_0.cpu()).detach().numpy(),\n",
    "            axis=0)"
   ]
  },
  {
   "cell_type": "markdown",
   "id": "b9250292",
   "metadata": {},
   "source": [
    "Save:"
   ]
  },
  {
   "cell_type": "code",
   "execution_count": 16,
   "id": "43f60cf7",
   "metadata": {},
   "outputs": [],
   "source": [
    "pickle.dump(all_loo_scores, open(f\"output/{exp_name}_all_loo_scores_1.p\",\n",
    "                                 \"wb\"))"
   ]
  },
  {
   "cell_type": "code",
   "execution_count": 17,
   "id": "28f70103",
   "metadata": {},
   "outputs": [
    {
     "data": {
      "text/html": [
       "<div>\n",
       "<style scoped>\n",
       "    .dataframe tbody tr th:only-of-type {\n",
       "        vertical-align: middle;\n",
       "    }\n",
       "\n",
       "    .dataframe tbody tr th {\n",
       "        vertical-align: top;\n",
       "    }\n",
       "\n",
       "    .dataframe thead th {\n",
       "        text-align: right;\n",
       "    }\n",
       "</style>\n",
       "<table border=\"1\" class=\"dataframe\">\n",
       "  <thead>\n",
       "    <tr style=\"text-align: right;\">\n",
       "      <th></th>\n",
       "      <th>pseudobulk_0</th>\n",
       "      <th>pseudobulk_1</th>\n",
       "      <th>pseudobulk_2</th>\n",
       "      <th>pseudobulk_3</th>\n",
       "      <th>pseudobulk_4</th>\n",
       "      <th>pseudobulk_5</th>\n",
       "      <th>pseudobulk_6</th>\n",
       "      <th>pseudobulk_7</th>\n",
       "      <th>pseudobulk_8</th>\n",
       "      <th>pseudobulk_9</th>\n",
       "      <th>...</th>\n",
       "      <th>pseudobulk_90</th>\n",
       "      <th>pseudobulk_91</th>\n",
       "      <th>pseudobulk_92</th>\n",
       "      <th>pseudobulk_93</th>\n",
       "      <th>pseudobulk_94</th>\n",
       "      <th>pseudobulk_95</th>\n",
       "      <th>pseudobulk_96</th>\n",
       "      <th>pseudobulk_97</th>\n",
       "      <th>pseudobulk_98</th>\n",
       "      <th>pseudobulk_99</th>\n",
       "    </tr>\n",
       "  </thead>\n",
       "  <tbody>\n",
       "    <tr>\n",
       "      <th>0_0</th>\n",
       "      <td>0.002754</td>\n",
       "      <td>0.005730</td>\n",
       "      <td>0.002982</td>\n",
       "      <td>0.002063</td>\n",
       "      <td>0.002531</td>\n",
       "      <td>0.004221</td>\n",
       "      <td>0.005830</td>\n",
       "      <td>0.003027</td>\n",
       "      <td>0.000815</td>\n",
       "      <td>0.001981</td>\n",
       "      <td>...</td>\n",
       "      <td>0.005316</td>\n",
       "      <td>0.006265</td>\n",
       "      <td>0.004986</td>\n",
       "      <td>3.072525e-03</td>\n",
       "      <td>0.009127</td>\n",
       "      <td>0.009527</td>\n",
       "      <td>0.004163</td>\n",
       "      <td>0.010615</td>\n",
       "      <td>0.004490</td>\n",
       "      <td>0.001802</td>\n",
       "    </tr>\n",
       "    <tr>\n",
       "      <th>0_1</th>\n",
       "      <td>-0.000040</td>\n",
       "      <td>0.000001</td>\n",
       "      <td>-0.000075</td>\n",
       "      <td>0.000001</td>\n",
       "      <td>-0.000088</td>\n",
       "      <td>-0.000033</td>\n",
       "      <td>0.000012</td>\n",
       "      <td>0.000017</td>\n",
       "      <td>-0.000038</td>\n",
       "      <td>-0.000030</td>\n",
       "      <td>...</td>\n",
       "      <td>0.000019</td>\n",
       "      <td>-0.000002</td>\n",
       "      <td>-0.000003</td>\n",
       "      <td>2.042887e-07</td>\n",
       "      <td>-0.000029</td>\n",
       "      <td>-0.000014</td>\n",
       "      <td>-0.000027</td>\n",
       "      <td>-0.000011</td>\n",
       "      <td>0.000018</td>\n",
       "      <td>0.000027</td>\n",
       "    </tr>\n",
       "    <tr>\n",
       "      <th>0_2</th>\n",
       "      <td>0.000718</td>\n",
       "      <td>0.000797</td>\n",
       "      <td>0.000836</td>\n",
       "      <td>0.001041</td>\n",
       "      <td>0.000542</td>\n",
       "      <td>0.000851</td>\n",
       "      <td>0.000880</td>\n",
       "      <td>0.000862</td>\n",
       "      <td>0.001031</td>\n",
       "      <td>0.001252</td>\n",
       "      <td>...</td>\n",
       "      <td>0.000691</td>\n",
       "      <td>0.000899</td>\n",
       "      <td>0.001182</td>\n",
       "      <td>1.250157e-03</td>\n",
       "      <td>0.000858</td>\n",
       "      <td>0.000714</td>\n",
       "      <td>0.001043</td>\n",
       "      <td>0.000878</td>\n",
       "      <td>0.000785</td>\n",
       "      <td>0.000704</td>\n",
       "    </tr>\n",
       "    <tr>\n",
       "      <th>0_3</th>\n",
       "      <td>0.004848</td>\n",
       "      <td>0.008304</td>\n",
       "      <td>0.006804</td>\n",
       "      <td>0.008990</td>\n",
       "      <td>0.004562</td>\n",
       "      <td>0.010287</td>\n",
       "      <td>0.008654</td>\n",
       "      <td>0.007982</td>\n",
       "      <td>0.005970</td>\n",
       "      <td>0.003024</td>\n",
       "      <td>...</td>\n",
       "      <td>0.009053</td>\n",
       "      <td>0.009241</td>\n",
       "      <td>0.013385</td>\n",
       "      <td>8.726026e-03</td>\n",
       "      <td>0.009804</td>\n",
       "      <td>0.009274</td>\n",
       "      <td>0.009259</td>\n",
       "      <td>0.011824</td>\n",
       "      <td>0.005580</td>\n",
       "      <td>0.005974</td>\n",
       "    </tr>\n",
       "    <tr>\n",
       "      <th>0_4</th>\n",
       "      <td>0.000089</td>\n",
       "      <td>0.000080</td>\n",
       "      <td>0.000070</td>\n",
       "      <td>-0.000031</td>\n",
       "      <td>0.000138</td>\n",
       "      <td>0.000017</td>\n",
       "      <td>-0.000015</td>\n",
       "      <td>0.000111</td>\n",
       "      <td>-0.000004</td>\n",
       "      <td>-0.000058</td>\n",
       "      <td>...</td>\n",
       "      <td>0.000059</td>\n",
       "      <td>0.000019</td>\n",
       "      <td>0.000020</td>\n",
       "      <td>7.470536e-05</td>\n",
       "      <td>0.000061</td>\n",
       "      <td>0.000096</td>\n",
       "      <td>0.000030</td>\n",
       "      <td>-0.000005</td>\n",
       "      <td>0.000035</td>\n",
       "      <td>0.000077</td>\n",
       "    </tr>\n",
       "    <tr>\n",
       "      <th>...</th>\n",
       "      <td>...</td>\n",
       "      <td>...</td>\n",
       "      <td>...</td>\n",
       "      <td>...</td>\n",
       "      <td>...</td>\n",
       "      <td>...</td>\n",
       "      <td>...</td>\n",
       "      <td>...</td>\n",
       "      <td>...</td>\n",
       "      <td>...</td>\n",
       "      <td>...</td>\n",
       "      <td>...</td>\n",
       "      <td>...</td>\n",
       "      <td>...</td>\n",
       "      <td>...</td>\n",
       "      <td>...</td>\n",
       "      <td>...</td>\n",
       "      <td>...</td>\n",
       "      <td>...</td>\n",
       "      <td>...</td>\n",
       "      <td>...</td>\n",
       "    </tr>\n",
       "    <tr>\n",
       "      <th>9_595</th>\n",
       "      <td>0.005096</td>\n",
       "      <td>0.004265</td>\n",
       "      <td>0.005171</td>\n",
       "      <td>0.004411</td>\n",
       "      <td>0.005511</td>\n",
       "      <td>0.004215</td>\n",
       "      <td>0.003226</td>\n",
       "      <td>0.003755</td>\n",
       "      <td>0.004263</td>\n",
       "      <td>0.004588</td>\n",
       "      <td>...</td>\n",
       "      <td>0.004284</td>\n",
       "      <td>0.004288</td>\n",
       "      <td>0.004055</td>\n",
       "      <td>4.865722e-03</td>\n",
       "      <td>0.004256</td>\n",
       "      <td>0.004786</td>\n",
       "      <td>0.003783</td>\n",
       "      <td>0.004999</td>\n",
       "      <td>0.003318</td>\n",
       "      <td>0.003324</td>\n",
       "    </tr>\n",
       "    <tr>\n",
       "      <th>9_596</th>\n",
       "      <td>0.003743</td>\n",
       "      <td>0.002725</td>\n",
       "      <td>0.003824</td>\n",
       "      <td>0.003401</td>\n",
       "      <td>0.003825</td>\n",
       "      <td>0.003266</td>\n",
       "      <td>0.002782</td>\n",
       "      <td>0.002670</td>\n",
       "      <td>0.003019</td>\n",
       "      <td>0.003153</td>\n",
       "      <td>...</td>\n",
       "      <td>0.003157</td>\n",
       "      <td>0.003652</td>\n",
       "      <td>0.003498</td>\n",
       "      <td>3.257470e-03</td>\n",
       "      <td>0.003079</td>\n",
       "      <td>0.003640</td>\n",
       "      <td>0.002730</td>\n",
       "      <td>0.003834</td>\n",
       "      <td>0.002733</td>\n",
       "      <td>0.002883</td>\n",
       "    </tr>\n",
       "    <tr>\n",
       "      <th>9_597</th>\n",
       "      <td>0.002950</td>\n",
       "      <td>0.002554</td>\n",
       "      <td>0.003010</td>\n",
       "      <td>0.002464</td>\n",
       "      <td>0.003298</td>\n",
       "      <td>0.002580</td>\n",
       "      <td>0.001697</td>\n",
       "      <td>0.002170</td>\n",
       "      <td>0.002367</td>\n",
       "      <td>0.002434</td>\n",
       "      <td>...</td>\n",
       "      <td>0.002767</td>\n",
       "      <td>0.002401</td>\n",
       "      <td>0.002382</td>\n",
       "      <td>3.076361e-03</td>\n",
       "      <td>0.002859</td>\n",
       "      <td>0.002516</td>\n",
       "      <td>0.002266</td>\n",
       "      <td>0.002649</td>\n",
       "      <td>0.001554</td>\n",
       "      <td>0.001887</td>\n",
       "    </tr>\n",
       "    <tr>\n",
       "      <th>9_598</th>\n",
       "      <td>0.004144</td>\n",
       "      <td>0.003478</td>\n",
       "      <td>0.004231</td>\n",
       "      <td>0.003682</td>\n",
       "      <td>0.004252</td>\n",
       "      <td>0.003465</td>\n",
       "      <td>0.002992</td>\n",
       "      <td>0.003079</td>\n",
       "      <td>0.003728</td>\n",
       "      <td>0.003768</td>\n",
       "      <td>...</td>\n",
       "      <td>0.003744</td>\n",
       "      <td>0.003847</td>\n",
       "      <td>0.003506</td>\n",
       "      <td>3.867519e-03</td>\n",
       "      <td>0.003726</td>\n",
       "      <td>0.004055</td>\n",
       "      <td>0.003285</td>\n",
       "      <td>0.004294</td>\n",
       "      <td>0.002929</td>\n",
       "      <td>0.003140</td>\n",
       "    </tr>\n",
       "    <tr>\n",
       "      <th>9_599</th>\n",
       "      <td>0.002900</td>\n",
       "      <td>0.002301</td>\n",
       "      <td>0.002890</td>\n",
       "      <td>0.002409</td>\n",
       "      <td>0.003163</td>\n",
       "      <td>0.002103</td>\n",
       "      <td>0.001588</td>\n",
       "      <td>0.002062</td>\n",
       "      <td>0.002173</td>\n",
       "      <td>0.002179</td>\n",
       "      <td>...</td>\n",
       "      <td>0.002676</td>\n",
       "      <td>0.002264</td>\n",
       "      <td>0.002312</td>\n",
       "      <td>2.760310e-03</td>\n",
       "      <td>0.002550</td>\n",
       "      <td>0.002634</td>\n",
       "      <td>0.002062</td>\n",
       "      <td>0.002821</td>\n",
       "      <td>0.001696</td>\n",
       "      <td>0.002036</td>\n",
       "    </tr>\n",
       "  </tbody>\n",
       "</table>\n",
       "<p>6000 rows × 100 columns</p>\n",
       "</div>"
      ],
      "text/plain": [
       "       pseudobulk_0  pseudobulk_1  pseudobulk_2  pseudobulk_3  pseudobulk_4  \\\n",
       "0_0        0.002754      0.005730      0.002982      0.002063      0.002531   \n",
       "0_1       -0.000040      0.000001     -0.000075      0.000001     -0.000088   \n",
       "0_2        0.000718      0.000797      0.000836      0.001041      0.000542   \n",
       "0_3        0.004848      0.008304      0.006804      0.008990      0.004562   \n",
       "0_4        0.000089      0.000080      0.000070     -0.000031      0.000138   \n",
       "...             ...           ...           ...           ...           ...   \n",
       "9_595      0.005096      0.004265      0.005171      0.004411      0.005511   \n",
       "9_596      0.003743      0.002725      0.003824      0.003401      0.003825   \n",
       "9_597      0.002950      0.002554      0.003010      0.002464      0.003298   \n",
       "9_598      0.004144      0.003478      0.004231      0.003682      0.004252   \n",
       "9_599      0.002900      0.002301      0.002890      0.002409      0.003163   \n",
       "\n",
       "       pseudobulk_5  pseudobulk_6  pseudobulk_7  pseudobulk_8  pseudobulk_9  \\\n",
       "0_0        0.004221      0.005830      0.003027      0.000815      0.001981   \n",
       "0_1       -0.000033      0.000012      0.000017     -0.000038     -0.000030   \n",
       "0_2        0.000851      0.000880      0.000862      0.001031      0.001252   \n",
       "0_3        0.010287      0.008654      0.007982      0.005970      0.003024   \n",
       "0_4        0.000017     -0.000015      0.000111     -0.000004     -0.000058   \n",
       "...             ...           ...           ...           ...           ...   \n",
       "9_595      0.004215      0.003226      0.003755      0.004263      0.004588   \n",
       "9_596      0.003266      0.002782      0.002670      0.003019      0.003153   \n",
       "9_597      0.002580      0.001697      0.002170      0.002367      0.002434   \n",
       "9_598      0.003465      0.002992      0.003079      0.003728      0.003768   \n",
       "9_599      0.002103      0.001588      0.002062      0.002173      0.002179   \n",
       "\n",
       "       ...  pseudobulk_90  pseudobulk_91  pseudobulk_92  pseudobulk_93  \\\n",
       "0_0    ...       0.005316       0.006265       0.004986   3.072525e-03   \n",
       "0_1    ...       0.000019      -0.000002      -0.000003   2.042887e-07   \n",
       "0_2    ...       0.000691       0.000899       0.001182   1.250157e-03   \n",
       "0_3    ...       0.009053       0.009241       0.013385   8.726026e-03   \n",
       "0_4    ...       0.000059       0.000019       0.000020   7.470536e-05   \n",
       "...    ...            ...            ...            ...            ...   \n",
       "9_595  ...       0.004284       0.004288       0.004055   4.865722e-03   \n",
       "9_596  ...       0.003157       0.003652       0.003498   3.257470e-03   \n",
       "9_597  ...       0.002767       0.002401       0.002382   3.076361e-03   \n",
       "9_598  ...       0.003744       0.003847       0.003506   3.867519e-03   \n",
       "9_599  ...       0.002676       0.002264       0.002312   2.760310e-03   \n",
       "\n",
       "       pseudobulk_94  pseudobulk_95  pseudobulk_96  pseudobulk_97  \\\n",
       "0_0         0.009127       0.009527       0.004163       0.010615   \n",
       "0_1        -0.000029      -0.000014      -0.000027      -0.000011   \n",
       "0_2         0.000858       0.000714       0.001043       0.000878   \n",
       "0_3         0.009804       0.009274       0.009259       0.011824   \n",
       "0_4         0.000061       0.000096       0.000030      -0.000005   \n",
       "...              ...            ...            ...            ...   \n",
       "9_595       0.004256       0.004786       0.003783       0.004999   \n",
       "9_596       0.003079       0.003640       0.002730       0.003834   \n",
       "9_597       0.002859       0.002516       0.002266       0.002649   \n",
       "9_598       0.003726       0.004055       0.003285       0.004294   \n",
       "9_599       0.002550       0.002634       0.002062       0.002821   \n",
       "\n",
       "       pseudobulk_98  pseudobulk_99  \n",
       "0_0         0.004490       0.001802  \n",
       "0_1         0.000018       0.000027  \n",
       "0_2         0.000785       0.000704  \n",
       "0_3         0.005580       0.005974  \n",
       "0_4         0.000035       0.000077  \n",
       "...              ...            ...  \n",
       "9_595       0.003318       0.003324  \n",
       "9_596       0.002733       0.002883  \n",
       "9_597       0.001554       0.001887  \n",
       "9_598       0.002929       0.003140  \n",
       "9_599       0.001696       0.002036  \n",
       "\n",
       "[6000 rows x 100 columns]"
      ]
     },
     "execution_count": 17,
     "metadata": {},
     "output_type": "execute_result"
    }
   ],
   "source": [
    "num_motifs = int(all_loo_scores.shape[0] / k_outer)\n",
    "all_motif_names = [\n",
    "    str(x) + \"_\" + str(y) for x in [x for x in range(k_outer)]\n",
    "    for y in [y for y in range(num_motifs)]\n",
    "]\n",
    "all_loo_scores_df = pd.DataFrame(all_loo_scores,\n",
    "                                 index=all_motif_names,\n",
    "                                 columns=ad.obs_names)\n",
    "all_loo_scores_df"
   ]
  },
  {
   "cell_type": "code",
   "execution_count": 18,
   "id": "593b9ecb",
   "metadata": {},
   "outputs": [],
   "source": [
    "all_loo_scores_df.to_csv(f\"output/{exp_name}_all_loo_scores_df.csv\")"
   ]
  },
  {
   "cell_type": "markdown",
   "id": "a95650ec",
   "metadata": {},
   "source": [
    "## Load in motif cluster database\n",
    "\n",
    "I compiled the motif cluster resource from [this source](https://www.vierstra.org/resources/motif_clustering)."
   ]
  },
  {
   "cell_type": "code",
   "execution_count": 21,
   "id": "f7363ada",
   "metadata": {
    "scrolled": false
   },
   "outputs": [
    {
     "data": {
      "text/html": [
       "<div>\n",
       "<style scoped>\n",
       "    .dataframe tbody tr th:only-of-type {\n",
       "        vertical-align: middle;\n",
       "    }\n",
       "\n",
       "    .dataframe tbody tr th {\n",
       "        vertical-align: top;\n",
       "    }\n",
       "\n",
       "    .dataframe thead th {\n",
       "        text-align: right;\n",
       "    }\n",
       "</style>\n",
       "<table border=\"1\" class=\"dataframe\">\n",
       "  <thead>\n",
       "    <tr style=\"text-align: right;\">\n",
       "      <th></th>\n",
       "      <th>Cluster_ID</th>\n",
       "      <th>Motif</th>\n",
       "      <th>Database</th>\n",
       "      <th>Consensus</th>\n",
       "      <th>Relative_orientation</th>\n",
       "      <th>Width</th>\n",
       "      <th>Left_offset</th>\n",
       "      <th>Right_offset</th>\n",
       "      <th>Cluster_name</th>\n",
       "      <th>Cluster_type</th>\n",
       "      <th>mouse_gene</th>\n",
       "      <th>human_gene</th>\n",
       "    </tr>\n",
       "  </thead>\n",
       "  <tbody>\n",
       "    <tr>\n",
       "      <th>0</th>\n",
       "      <td>1</td>\n",
       "      <td>LHX6_homeodomain_3</td>\n",
       "      <td>Taipale_Cell_2013</td>\n",
       "      <td>TGATTGCAATCA</td>\n",
       "      <td>+</td>\n",
       "      <td>12</td>\n",
       "      <td>0</td>\n",
       "      <td>0</td>\n",
       "      <td>HD/1:homeodomain</td>\n",
       "      <td>homeodomain</td>\n",
       "      <td>Lhx6</td>\n",
       "      <td>LHX6</td>\n",
       "    </tr>\n",
       "    <tr>\n",
       "      <th>1</th>\n",
       "      <td>1</td>\n",
       "      <td>Lhx8.mouse_homeodomain_3</td>\n",
       "      <td>Taipale_Cell_2013</td>\n",
       "      <td>TGATTGCAATTA</td>\n",
       "      <td>-</td>\n",
       "      <td>12</td>\n",
       "      <td>0</td>\n",
       "      <td>0</td>\n",
       "      <td>HD/1:homeodomain</td>\n",
       "      <td>homeodomain</td>\n",
       "      <td>Lhx8</td>\n",
       "      <td>LHX8</td>\n",
       "    </tr>\n",
       "    <tr>\n",
       "      <th>2</th>\n",
       "      <td>2</td>\n",
       "      <td>LHX2_MOUSE.H11MO.0.A</td>\n",
       "      <td>HOCOMOCO_v11</td>\n",
       "      <td>ACTAATTAAC</td>\n",
       "      <td>-</td>\n",
       "      <td>10</td>\n",
       "      <td>7</td>\n",
       "      <td>9</td>\n",
       "      <td>HD/2:homeodomain</td>\n",
       "      <td>homeodomain</td>\n",
       "      <td>Lhx2</td>\n",
       "      <td>LHX2</td>\n",
       "    </tr>\n",
       "    <tr>\n",
       "      <th>3</th>\n",
       "      <td>2</td>\n",
       "      <td>LHX2_HUMAN.H11MO.0.A</td>\n",
       "      <td>HOCOMOCO_v11</td>\n",
       "      <td>AACTAATTAAAA</td>\n",
       "      <td>-</td>\n",
       "      <td>12</td>\n",
       "      <td>6</td>\n",
       "      <td>8</td>\n",
       "      <td>HD/2:homeodomain</td>\n",
       "      <td>homeodomain</td>\n",
       "      <td>Lhx2</td>\n",
       "      <td>LHX2</td>\n",
       "    </tr>\n",
       "    <tr>\n",
       "      <th>4</th>\n",
       "      <td>2</td>\n",
       "      <td>LHX3_MOUSE.H11MO.0.C</td>\n",
       "      <td>HOCOMOCO_v11</td>\n",
       "      <td>TTAATTAGC</td>\n",
       "      <td>-</td>\n",
       "      <td>9</td>\n",
       "      <td>8</td>\n",
       "      <td>9</td>\n",
       "      <td>HD/2:homeodomain</td>\n",
       "      <td>homeodomain</td>\n",
       "      <td>Lhx3</td>\n",
       "      <td>LHX3</td>\n",
       "    </tr>\n",
       "    <tr>\n",
       "      <th>...</th>\n",
       "      <td>...</td>\n",
       "      <td>...</td>\n",
       "      <td>...</td>\n",
       "      <td>...</td>\n",
       "      <td>...</td>\n",
       "      <td>...</td>\n",
       "      <td>...</td>\n",
       "      <td>...</td>\n",
       "      <td>...</td>\n",
       "      <td>...</td>\n",
       "      <td>...</td>\n",
       "      <td>...</td>\n",
       "    </tr>\n",
       "    <tr>\n",
       "      <th>2169</th>\n",
       "      <td>284</td>\n",
       "      <td>Ahr+Arnt_MA0006.1</td>\n",
       "      <td>Jaspar2018</td>\n",
       "      <td>TGCGTG</td>\n",
       "      <td>+</td>\n",
       "      <td>6</td>\n",
       "      <td>2</td>\n",
       "      <td>1</td>\n",
       "      <td>AHR:bHLH</td>\n",
       "      <td>bHLH</td>\n",
       "      <td>Ahr</td>\n",
       "      <td>AHR</td>\n",
       "    </tr>\n",
       "    <tr>\n",
       "      <th>2170</th>\n",
       "      <td>285</td>\n",
       "      <td>KLF8_HUMAN.H11MO.0.C</td>\n",
       "      <td>HOCOMOCO_v11</td>\n",
       "      <td>CAGGGGGTG</td>\n",
       "      <td>+</td>\n",
       "      <td>9</td>\n",
       "      <td>0</td>\n",
       "      <td>0</td>\n",
       "      <td>KLF/SP/3:C2H2</td>\n",
       "      <td>C2H2</td>\n",
       "      <td>Klf8</td>\n",
       "      <td>KLF8</td>\n",
       "    </tr>\n",
       "    <tr>\n",
       "      <th>2171</th>\n",
       "      <td>285</td>\n",
       "      <td>KLF8_MOUSE.H11MO.0.C</td>\n",
       "      <td>HOCOMOCO_v11</td>\n",
       "      <td>CAGGGGGTG</td>\n",
       "      <td>+</td>\n",
       "      <td>9</td>\n",
       "      <td>0</td>\n",
       "      <td>0</td>\n",
       "      <td>KLF/SP/3:C2H2</td>\n",
       "      <td>C2H2</td>\n",
       "      <td>Klf8</td>\n",
       "      <td>KLF8</td>\n",
       "    </tr>\n",
       "    <tr>\n",
       "      <th>2172</th>\n",
       "      <td>286</td>\n",
       "      <td>ZSCAN4_MA1155.1</td>\n",
       "      <td>Jaspar2018</td>\n",
       "      <td>TGCACACACTGAAAA</td>\n",
       "      <td>+</td>\n",
       "      <td>15</td>\n",
       "      <td>0</td>\n",
       "      <td>0</td>\n",
       "      <td>ZSCAN4:C2H2</td>\n",
       "      <td>C2H2</td>\n",
       "      <td>Zscan4</td>\n",
       "      <td>ZSCAN4</td>\n",
       "    </tr>\n",
       "    <tr>\n",
       "      <th>2173</th>\n",
       "      <td>286</td>\n",
       "      <td>ZSCAN4_C2H2_1</td>\n",
       "      <td>Taipale_Cell_2013</td>\n",
       "      <td>TGCACACACTGAAAA</td>\n",
       "      <td>+</td>\n",
       "      <td>15</td>\n",
       "      <td>0</td>\n",
       "      <td>0</td>\n",
       "      <td>ZSCAN4:C2H2</td>\n",
       "      <td>C2H2</td>\n",
       "      <td>Zscan4</td>\n",
       "      <td>ZSCAN4</td>\n",
       "    </tr>\n",
       "  </tbody>\n",
       "</table>\n",
       "<p>2174 rows × 12 columns</p>\n",
       "</div>"
      ],
      "text/plain": [
       "      Cluster_ID                     Motif           Database  \\\n",
       "0              1        LHX6_homeodomain_3  Taipale_Cell_2013   \n",
       "1              1  Lhx8.mouse_homeodomain_3  Taipale_Cell_2013   \n",
       "2              2      LHX2_MOUSE.H11MO.0.A       HOCOMOCO_v11   \n",
       "3              2      LHX2_HUMAN.H11MO.0.A       HOCOMOCO_v11   \n",
       "4              2      LHX3_MOUSE.H11MO.0.C       HOCOMOCO_v11   \n",
       "...          ...                       ...                ...   \n",
       "2169         284         Ahr+Arnt_MA0006.1         Jaspar2018   \n",
       "2170         285      KLF8_HUMAN.H11MO.0.C       HOCOMOCO_v11   \n",
       "2171         285      KLF8_MOUSE.H11MO.0.C       HOCOMOCO_v11   \n",
       "2172         286           ZSCAN4_MA1155.1         Jaspar2018   \n",
       "2173         286             ZSCAN4_C2H2_1  Taipale_Cell_2013   \n",
       "\n",
       "            Consensus Relative_orientation  Width  Left_offset  Right_offset  \\\n",
       "0        TGATTGCAATCA                    +     12            0             0   \n",
       "1        TGATTGCAATTA                    -     12            0             0   \n",
       "2          ACTAATTAAC                    -     10            7             9   \n",
       "3        AACTAATTAAAA                    -     12            6             8   \n",
       "4           TTAATTAGC                    -      9            8             9   \n",
       "...               ...                  ...    ...          ...           ...   \n",
       "2169           TGCGTG                    +      6            2             1   \n",
       "2170        CAGGGGGTG                    +      9            0             0   \n",
       "2171        CAGGGGGTG                    +      9            0             0   \n",
       "2172  TGCACACACTGAAAA                    +     15            0             0   \n",
       "2173  TGCACACACTGAAAA                    +     15            0             0   \n",
       "\n",
       "          Cluster_name Cluster_type mouse_gene human_gene  \n",
       "0     HD/1:homeodomain  homeodomain       Lhx6       LHX6  \n",
       "1     HD/1:homeodomain  homeodomain       Lhx8       LHX8  \n",
       "2     HD/2:homeodomain  homeodomain       Lhx2       LHX2  \n",
       "3     HD/2:homeodomain  homeodomain       Lhx2       LHX2  \n",
       "4     HD/2:homeodomain  homeodomain       Lhx3       LHX3  \n",
       "...                ...          ...        ...        ...  \n",
       "2169          AHR:bHLH         bHLH        Ahr        AHR  \n",
       "2170     KLF/SP/3:C2H2         C2H2       Klf8       KLF8  \n",
       "2171     KLF/SP/3:C2H2         C2H2       Klf8       KLF8  \n",
       "2172       ZSCAN4:C2H2         C2H2     Zscan4     ZSCAN4  \n",
       "2173       ZSCAN4:C2H2         C2H2     Zscan4     ZSCAN4  \n",
       "\n",
       "[2174 rows x 12 columns]"
      ]
     },
     "execution_count": 21,
     "metadata": {},
     "output_type": "execute_result"
    }
   ],
   "source": [
    "jvdf = pd.read_csv(\"../resources/motif_annotations_with_possible_gene.csv\",\n",
    "                   index_col=0)\n",
    "jvdf"
   ]
  },
  {
   "cell_type": "code",
   "execution_count": 22,
   "id": "755121b7",
   "metadata": {},
   "outputs": [],
   "source": [
    "subcluster_gene_sets = {}\n",
    "for cluster in jvdf[\"Cluster_name\"].unique():\n",
    "    subcluster_gene_sets[cluster] = list(\n",
    "        jvdf[jvdf[\"Cluster_name\"] == cluster][\"mouse_gene\"].unique())\n",
    "cluster_gene_sets = {}\n",
    "for cluster in jvdf[\"Cluster_type\"].unique():\n",
    "    cluster_gene_sets[cluster] = list(\n",
    "        jvdf[jvdf[\"Cluster_type\"] == cluster][\"mouse_gene\"].unique())"
   ]
  },
  {
   "cell_type": "markdown",
   "id": "c84d4f4c",
   "metadata": {},
   "source": [
    "## Align motifs database using Tomtom\n",
    "\n",
    "For the next bit, it is necessary to install Tomtom from the MEME suite using e.g. `conda install -c bioconda meme`. This takes a little while to run. Set `-verbosity 2` to see the outputs here."
   ]
  },
  {
   "cell_type": "code",
   "execution_count": 23,
   "id": "6fe2f674",
   "metadata": {
    "scrolled": false
   },
   "outputs": [],
   "source": [
    "!tomtom -o output/tomtom_$exp_name -thresh 0.05 \\\n",
    "  'output/'$exp_name'_all_MEME_motifs.txt' ../resources/Mus_musculus.meme \\\n",
    "  -verbosity 1"
   ]
  },
  {
   "cell_type": "markdown",
   "id": "20263451",
   "metadata": {},
   "source": [
    "## Load aligned motifs and assign to motif clusters"
   ]
  },
  {
   "cell_type": "code",
   "execution_count": 24,
   "id": "7de78725",
   "metadata": {},
   "outputs": [
    {
     "name": "stderr",
     "output_type": "stream",
     "text": [
      "/lustre/scratch123/hgi/mdt2/teams/parts/jh47/SCOVER_REBUTTAL/scoverdev/scover_new_repo_tmp/example_notebooks/scover/data/utils.py:457: FutureWarning: The error_bad_lines argument has been deprecated and will be removed in a future version. Use on_bad_lines in the future.\n",
      "\n",
      "\n",
      "  aln = pd.read_csv(tomtom_path, sep=\"\\t\",\n"
     ]
    }
   ],
   "source": [
    "alignment_df = create_alignment_df(\n",
    "    f\"output/tomtom_{exp_name}/tomtom.tsv\",\n",
    "    threshold=0.05,\n",
    "    translate_ids=True,\n",
    "    db_meme_file=\"../resources/Mus_musculus.meme\")"
   ]
  },
  {
   "cell_type": "code",
   "execution_count": 25,
   "id": "c3ce8be1",
   "metadata": {},
   "outputs": [
    {
     "data": {
      "application/vnd.jupyter.widget-view+json": {
       "model_id": "3b12b89c91934d19bc41768dff864cd4",
       "version_major": 2,
       "version_minor": 0
      },
      "text/plain": [
       "  0%|          | 0/877 [00:00<?, ?it/s]"
      ]
     },
     "metadata": {},
     "output_type": "display_data"
    }
   ],
   "source": [
    "aligned_motifs = list(alignment_df['Query_ID'].unique())\n",
    "aligned_motif_subfamilies = []\n",
    "aligned_motif_families = []\n",
    "for i in tqdm(aligned_motifs):\n",
    "    found = False\n",
    "    curr_df = alignment_df[alignment_df['Query_ID'] == i]\n",
    "    for aln in curr_df['Target_ID']:\n",
    "        if aln in list(jvdf['mouse_gene']):\n",
    "            # Found the motif family.\n",
    "            aligned_motif_subfamilies.append(\n",
    "                jvdf[jvdf['mouse_gene'] == aln]['Cluster_name'].iloc[0])\n",
    "            aligned_motif_families.append(\n",
    "                jvdf[jvdf['mouse_gene'] == aln]['Cluster_type'].iloc[0])\n",
    "            found = True\n",
    "            break\n",
    "    if not found:\n",
    "        aligned_motif_subfamilies.append(\"N/A\")\n",
    "        aligned_motif_families.append(\"N/A\")\n",
    "motif_families = pd.DataFrame(\n",
    "    {\n",
    "        'motif': aligned_motifs,\n",
    "        'family': aligned_motif_families,\n",
    "        'subfamily': aligned_motif_subfamilies\n",
    "    },\n",
    "    index=aligned_motifs)"
   ]
  },
  {
   "cell_type": "code",
   "execution_count": 26,
   "id": "701e4f5b",
   "metadata": {},
   "outputs": [],
   "source": [
    "all_loo_scores_df_aligned = all_loo_scores_df.loc[aligned_motifs]"
   ]
  },
  {
   "cell_type": "markdown",
   "id": "33fb49d1",
   "metadata": {},
   "source": [
    "## Summarise aligned motif scores across motif families"
   ]
  },
  {
   "cell_type": "code",
   "execution_count": 27,
   "id": "b69164b3",
   "metadata": {},
   "outputs": [],
   "source": [
    "subfams_loo = np.zeros(\n",
    "    (len(motif_families['subfamily'].unique()), all_loo_scores_df.shape[1]))"
   ]
  },
  {
   "cell_type": "code",
   "execution_count": 28,
   "id": "48217999",
   "metadata": {},
   "outputs": [],
   "source": [
    "subfams_loo = np.zeros(\n",
    "    (len(motif_families['subfamily'].unique()), all_loo_scores_df.shape[1]))\n",
    "fams_loo = np.zeros(\n",
    "    (len(motif_families['family'].unique()), all_loo_scores_df.shape[1]))\n",
    "for idx, subfam in enumerate(motif_families['subfamily'].unique()):\n",
    "    curr_s = [\n",
    "        x for x in all_loo_scores_df_aligned.index\n",
    "        if motif_families.loc[x][\"subfamily\"] == subfam\n",
    "    ]\n",
    "    curr_df = all_loo_scores_df_aligned.loc[curr_s]\n",
    "    subfams_loo[idx, :] = curr_df.to_numpy().sum(0)\n",
    "for idx, fam in enumerate(motif_families['family'].unique()):\n",
    "    curr_s = [\n",
    "        x for x in all_loo_scores_df_aligned.index\n",
    "        if motif_families.loc[x][\"family\"] == fam\n",
    "    ]\n",
    "    curr_df = all_loo_scores_df_aligned.loc[curr_s]\n",
    "    fams_loo[idx, :] = curr_df.to_numpy().sum(0)\n",
    "\n",
    "subfams_loo_df = pd.DataFrame(subfams_loo,\n",
    "                              index=motif_families['subfamily'].unique(),\n",
    "                              columns=all_loo_scores_df.columns)\n",
    "fams_loo_df = pd.DataFrame(fams_loo,\n",
    "                           index=motif_families['family'].unique(),\n",
    "                           columns=all_loo_scores_df.columns)"
   ]
  },
  {
   "cell_type": "code",
   "execution_count": 31,
   "id": "7902c908",
   "metadata": {},
   "outputs": [
    {
     "data": {
      "image/png": "[encoded data removed]",
      "text/plain": [
       "<Figure size 720x720 with 5 Axes>"
      ]
     },
     "metadata": {
      "needs_background": "light"
     },
     "output_type": "display_data"
    }
   ],
   "source": [
    "from matplotlib.patches import Patch\n",
    "\n",
    "network_labels = ad.obs['most_abundant_celltype']\n",
    "# network_pal = sns.hls_palette(len(set(network_labels)))\n",
    "# network_pal = sns.color_palette(\"Set2\", len(set(network_labels)))\n",
    "network_pal = sns.color_palette(\"Set1\", len(set(network_labels)))\n",
    "network_lut = dict(zip(map(str, sorted(set(network_labels))), network_pal))\n",
    "network_colors = pd.Series(list(network_labels)).map(network_lut)\n",
    "network_colors.index = fams_loo_df.columns\n",
    "\n",
    "sns.clustermap(to_z(fams_loo_df), col_colors=network_colors)\n",
    "\n",
    "handles = [Patch(facecolor=network_lut[name]) for name in network_lut]\n",
    "plt.legend(handles,\n",
    "           network_lut,\n",
    "           title='Cell type',\n",
    "           bbox_to_anchor=(1.35, 1),\n",
    "           bbox_transform=plt.gcf().transFigure,\n",
    "           loc='upper right')\n",
    "plt.show()"
   ]
  },
  {
   "cell_type": "code",
   "execution_count": 32,
   "id": "67add57e",
   "metadata": {},
   "outputs": [
    {
     "data": {
      "image/png": "[encoded data removed]",
      "text/plain": [
       "<Figure size 720x720 with 5 Axes>"
      ]
     },
     "metadata": {
      "needs_background": "light"
     },
     "output_type": "display_data"
    }
   ],
   "source": [
    "from matplotlib.patches import Patch\n",
    "\n",
    "network_labels = ad.obs['most_abundant_celltype']\n",
    "# network_pal = sns.hls_palette(len(set(network_labels)))\n",
    "# network_pal = sns.color_palette(\"Set2\", len(set(network_labels)))\n",
    "network_pal = sns.color_palette(\"Set1\", len(set(network_labels)))\n",
    "network_lut = dict(zip(map(str, sorted(set(network_labels))), network_pal))\n",
    "network_colors = pd.Series(list(network_labels)).map(network_lut)\n",
    "network_colors.index = subfams_loo_df.columns\n",
    "\n",
    "sns.clustermap(to_z(subfams_loo_df), col_colors=network_colors)\n",
    "\n",
    "handles = [Patch(facecolor=network_lut[name]) for name in network_lut]\n",
    "plt.legend(handles,\n",
    "           network_lut,\n",
    "           title='Cell type',\n",
    "           bbox_to_anchor=(1.35, 1),\n",
    "           bbox_transform=plt.gcf().transFigure,\n",
    "           loc='upper right')\n",
    "plt.show()"
   ]
  },
  {
   "cell_type": "markdown",
   "id": "e14d12be",
   "metadata": {},
   "source": [
    "## Calculate motif family reproducibility"
   ]
  },
  {
   "cell_type": "code",
   "execution_count": 33,
   "id": "03dbecd6",
   "metadata": {},
   "outputs": [],
   "source": [
    "fam_repro = {}\n",
    "subfam_repro = {}\n",
    "for fam in motif_families[\"family\"].unique():\n",
    "    curr_df = motif_families[motif_families[\"family\"] == fam]\n",
    "    fam_repro[fam] = len(set([x.split(\"_\")[0]\n",
    "                              for x in curr_df[\"motif\"]])) / k_outer\n",
    "for subfam in motif_families[\"subfamily\"].unique():\n",
    "    curr_df = motif_families[motif_families[\"subfamily\"] == subfam]\n",
    "    subfam_repro[subfam] = len(set([x.split(\"_\")[0]\n",
    "                                    for x in curr_df[\"motif\"]])) / k_outer"
   ]
  },
  {
   "cell_type": "code",
   "execution_count": 34,
   "id": "2a70d204",
   "metadata": {},
   "outputs": [],
   "source": [
    "motif_families[\"family_genes\"] = [\n",
    "    list(jvdf[jvdf[\"Cluster_name\"] == x][\"mouse_gene\"].unique())\n",
    "    for x in motif_families[\"subfamily\"]\n",
    "]"
   ]
  },
  {
   "cell_type": "code",
   "execution_count": 35,
   "id": "b1c05081",
   "metadata": {},
   "outputs": [],
   "source": [
    "# Subset to reproducible motif families\n",
    "motif_families_repro = motif_families[[\n",
    "    x in [x for x in subfam_repro if subfam_repro[x] >= 0.5 and x != \"N/A\"]\n",
    "    for x in motif_families['subfamily']\n",
    "]]"
   ]
  },
  {
   "cell_type": "markdown",
   "id": "b8e5605a",
   "metadata": {},
   "source": [
    "## Get correlations to expression levels"
   ]
  },
  {
   "cell_type": "code",
   "execution_count": 36,
   "id": "be06bc57",
   "metadata": {},
   "outputs": [],
   "source": [
    "expression_hits_df = get_expression_hits_df(ad,\n",
    "                                            all_loo_scores_df,\n",
    "                                            motif_families_repro,\n",
    "                                            fdr_correct=True,\n",
    "                                            gene_symbols='symbol',\n",
    "                                            correlation='spearman')"
   ]
  },
  {
   "cell_type": "code",
   "execution_count": 37,
   "id": "a56b7daf",
   "metadata": {},
   "outputs": [
    {
     "data": {
      "text/html": [
       "<div>\n",
       "<style scoped>\n",
       "    .dataframe tbody tr th:only-of-type {\n",
       "        vertical-align: middle;\n",
       "    }\n",
       "\n",
       "    .dataframe tbody tr th {\n",
       "        vertical-align: top;\n",
       "    }\n",
       "\n",
       "    .dataframe thead th {\n",
       "        text-align: right;\n",
       "    }\n",
       "</style>\n",
       "<table border=\"1\" class=\"dataframe\">\n",
       "  <thead>\n",
       "    <tr style=\"text-align: right;\">\n",
       "      <th></th>\n",
       "      <th>family</th>\n",
       "      <th>gene</th>\n",
       "      <th>mean_expression</th>\n",
       "      <th>correlation</th>\n",
       "      <th>pval</th>\n",
       "    </tr>\n",
       "  </thead>\n",
       "  <tbody>\n",
       "    <tr>\n",
       "      <th>0</th>\n",
       "      <td>ZFX:C2H2</td>\n",
       "      <td>Zfx</td>\n",
       "      <td>3.268468</td>\n",
       "      <td>0.655834</td>\n",
       "      <td>1.307145e-13</td>\n",
       "    </tr>\n",
       "    <tr>\n",
       "      <th>0</th>\n",
       "      <td>KLF/SP/2:C2H2</td>\n",
       "      <td>Egr1</td>\n",
       "      <td>3.239816</td>\n",
       "      <td>-0.115104</td>\n",
       "      <td>3.127839e-01</td>\n",
       "    </tr>\n",
       "    <tr>\n",
       "      <th>1</th>\n",
       "      <td>KLF/SP/2:C2H2</td>\n",
       "      <td>Egr2</td>\n",
       "      <td>1.261575</td>\n",
       "      <td>-0.108666</td>\n",
       "      <td>3.221059e-01</td>\n",
       "    </tr>\n",
       "    <tr>\n",
       "      <th>2</th>\n",
       "      <td>KLF/SP/2:C2H2</td>\n",
       "      <td>Sp1</td>\n",
       "      <td>3.308136</td>\n",
       "      <td>0.629667</td>\n",
       "      <td>9.029765e-12</td>\n",
       "    </tr>\n",
       "    <tr>\n",
       "      <th>3</th>\n",
       "      <td>KLF/SP/2:C2H2</td>\n",
       "      <td>Patz1</td>\n",
       "      <td>2.959592</td>\n",
       "      <td>0.808460</td>\n",
       "      <td>2.173999e-23</td>\n",
       "    </tr>\n",
       "    <tr>\n",
       "      <th>...</th>\n",
       "      <td>...</td>\n",
       "      <td>...</td>\n",
       "      <td>...</td>\n",
       "      <td>...</td>\n",
       "      <td>...</td>\n",
       "    </tr>\n",
       "    <tr>\n",
       "      <th>1</th>\n",
       "      <td>E2F/2:E2F</td>\n",
       "      <td>Tfdp1</td>\n",
       "      <td>3.330987</td>\n",
       "      <td>0.570408</td>\n",
       "      <td>5.818266e-10</td>\n",
       "    </tr>\n",
       "    <tr>\n",
       "      <th>2</th>\n",
       "      <td>E2F/2:E2F</td>\n",
       "      <td>E2f4</td>\n",
       "      <td>3.471572</td>\n",
       "      <td>0.880192</td>\n",
       "      <td>1.045319e-32</td>\n",
       "    </tr>\n",
       "    <tr>\n",
       "      <th>3</th>\n",
       "      <td>E2F/2:E2F</td>\n",
       "      <td>E2f6</td>\n",
       "      <td>2.662462</td>\n",
       "      <td>0.869617</td>\n",
       "      <td>2.531326e-31</td>\n",
       "    </tr>\n",
       "    <tr>\n",
       "      <th>4</th>\n",
       "      <td>E2F/2:E2F</td>\n",
       "      <td>E2f3</td>\n",
       "      <td>2.469711</td>\n",
       "      <td>0.714278</td>\n",
       "      <td>1.443780e-16</td>\n",
       "    </tr>\n",
       "    <tr>\n",
       "      <th>5</th>\n",
       "      <td>E2F/2:E2F</td>\n",
       "      <td>E2f7</td>\n",
       "      <td>1.722862</td>\n",
       "      <td>0.631342</td>\n",
       "      <td>2.275503e-12</td>\n",
       "    </tr>\n",
       "  </tbody>\n",
       "</table>\n",
       "<p>88 rows × 5 columns</p>\n",
       "</div>"
      ],
      "text/plain": [
       "           family   gene  mean_expression  correlation          pval\n",
       "0        ZFX:C2H2    Zfx         3.268468     0.655834  1.307145e-13\n",
       "0   KLF/SP/2:C2H2   Egr1         3.239816    -0.115104  3.127839e-01\n",
       "1   KLF/SP/2:C2H2   Egr2         1.261575    -0.108666  3.221059e-01\n",
       "2   KLF/SP/2:C2H2    Sp1         3.308136     0.629667  9.029765e-12\n",
       "3   KLF/SP/2:C2H2  Patz1         2.959592     0.808460  2.173999e-23\n",
       "..            ...    ...              ...          ...           ...\n",
       "1       E2F/2:E2F  Tfdp1         3.330987     0.570408  5.818266e-10\n",
       "2       E2F/2:E2F   E2f4         3.471572     0.880192  1.045319e-32\n",
       "3       E2F/2:E2F   E2f6         2.662462     0.869617  2.531326e-31\n",
       "4       E2F/2:E2F   E2f3         2.469711     0.714278  1.443780e-16\n",
       "5       E2F/2:E2F   E2f7         1.722862     0.631342  2.275503e-12\n",
       "\n",
       "[88 rows x 5 columns]"
      ]
     },
     "execution_count": 37,
     "metadata": {},
     "output_type": "execute_result"
    }
   ],
   "source": [
    "expression_hits_df"
   ]
  },
  {
   "cell_type": "markdown",
   "id": "f92759b7",
   "metadata": {},
   "source": [
    "## Test set prediction"
   ]
  },
  {
   "cell_type": "code",
   "execution_count": 38,
   "id": "403b9c43",
   "metadata": {},
   "outputs": [
    {
     "data": {
      "application/vnd.jupyter.widget-view+json": {
       "model_id": "4404c47740ec41aca3d48c3804d97272",
       "version_major": 2,
       "version_minor": 0
      },
      "text/plain": [
       "  0%|          | 0/10 [00:00<?, ?it/s]"
      ]
     },
     "metadata": {},
     "output_type": "display_data"
    },
    {
     "data": {
      "application/vnd.jupyter.widget-view+json": {
       "model_id": "4cabf6ef397d4c888874e437eb9b3f50",
       "version_major": 2,
       "version_minor": 0
      },
      "text/plain": [
       "  0%|          | 0/13 [00:00<?, ?it/s]"
      ]
     },
     "metadata": {},
     "output_type": "display_data"
    },
    {
     "data": {
      "application/vnd.jupyter.widget-view+json": {
       "model_id": "51839a9707724ad3801a7d6981a84751",
       "version_major": 2,
       "version_minor": 0
      },
      "text/plain": [
       "  0%|          | 0/13 [00:00<?, ?it/s]"
      ]
     },
     "metadata": {},
     "output_type": "display_data"
    },
    {
     "data": {
      "application/vnd.jupyter.widget-view+json": {
       "model_id": "83332fbe849b4af1be919c9e920cd6ce",
       "version_major": 2,
       "version_minor": 0
      },
      "text/plain": [
       "  0%|          | 0/13 [00:00<?, ?it/s]"
      ]
     },
     "metadata": {},
     "output_type": "display_data"
    },
    {
     "data": {
      "application/vnd.jupyter.widget-view+json": {
       "model_id": "0b0dbb06d27c4bca8ab3421d1da8854c",
       "version_major": 2,
       "version_minor": 0
      },
      "text/plain": [
       "  0%|          | 0/13 [00:00<?, ?it/s]"
      ]
     },
     "metadata": {},
     "output_type": "display_data"
    },
    {
     "data": {
      "application/vnd.jupyter.widget-view+json": {
       "model_id": "97a324cc02f841c2b37fa5f059b7dd84",
       "version_major": 2,
       "version_minor": 0
      },
      "text/plain": [
       "  0%|          | 0/13 [00:00<?, ?it/s]"
      ]
     },
     "metadata": {},
     "output_type": "display_data"
    },
    {
     "data": {
      "application/vnd.jupyter.widget-view+json": {
       "model_id": "1d52685ae12946588fa722a1be5ad232",
       "version_major": 2,
       "version_minor": 0
      },
      "text/plain": [
       "  0%|          | 0/13 [00:00<?, ?it/s]"
      ]
     },
     "metadata": {},
     "output_type": "display_data"
    },
    {
     "data": {
      "application/vnd.jupyter.widget-view+json": {
       "model_id": "f174f8347d37486b87c601e477548938",
       "version_major": 2,
       "version_minor": 0
      },
      "text/plain": [
       "  0%|          | 0/13 [00:00<?, ?it/s]"
      ]
     },
     "metadata": {},
     "output_type": "display_data"
    },
    {
     "data": {
      "application/vnd.jupyter.widget-view+json": {
       "model_id": "2e061e989e59442dace03c42d39f9bb8",
       "version_major": 2,
       "version_minor": 0
      },
      "text/plain": [
       "  0%|          | 0/13 [00:00<?, ?it/s]"
      ]
     },
     "metadata": {},
     "output_type": "display_data"
    },
    {
     "data": {
      "application/vnd.jupyter.widget-view+json": {
       "model_id": "a10e848d5c1149fd8e5ba3dc732c09d8",
       "version_major": 2,
       "version_minor": 0
      },
      "text/plain": [
       "  0%|          | 0/13 [00:00<?, ?it/s]"
      ]
     },
     "metadata": {},
     "output_type": "display_data"
    },
    {
     "data": {
      "application/vnd.jupyter.widget-view+json": {
       "model_id": "4471a2e6452c459098f1021834fe1dcf",
       "version_major": 2,
       "version_minor": 0
      },
      "text/plain": [
       "  0%|          | 0/13 [00:00<?, ?it/s]"
      ]
     },
     "metadata": {},
     "output_type": "display_data"
    }
   ],
   "source": [
    "from scipy.stats import pearsonr\n",
    "\n",
    "corrs = []\n",
    "for curr_outer in tqdm(range(k_outer)):\n",
    "    curr_test_idx = idx_sets['test'][curr_outer]\n",
    "    test_data = SeqDataset(X_seqs[curr_test_idx], X_data[curr_test_idx], dtype=\"float\")\n",
    "    test_loader = DataLoader(test_data, batch_size=128, num_workers=0, shuffle=False)\n",
    "    best_config = all_best_configs[curr_outer]\n",
    "    sn = SeqNet(seq_length=seq_length, \n",
    "                     output_size=output_size, \n",
    "                     learning_rate=best_config[\"learning_rate\"],\n",
    "                     motif_length=12,\n",
    "                     num_motifs=600,\n",
    "                     sigma_motifs=best_config[\"sigma_motifs\"],\n",
    "                     sigma_net=best_config[\"sigma_net\"],\n",
    "                     use_elu=True)\n",
    "    state_dict_path = f\"models/{exp_name}_trained_outer_\" + str(\n",
    "        curr_outer) + \".p\"\n",
    "    sn.load_state_dict(torch.load(state_dict_path))\n",
    "    if torch.cuda.is_available():\n",
    "        sn = sn.cuda()\n",
    "    sn = sn.eval()\n",
    "    \n",
    "    curr_predictions = np.zeros((len(test_data), output_size))\n",
    "    curr_ground_truth = np.zeros((len(test_data), output_size))\n",
    "    curr_start_idx = 0\n",
    "    for idx, (X,Y) in enumerate(tqdm(test_loader)):\n",
    "        if torch.cuda.is_available():\n",
    "            X = X.to(torch.device('cuda'))\n",
    "        curr_pred = sn(X)\n",
    "        curr_pred_len = curr_pred.shape[0]\n",
    "        curr_predictions[curr_start_idx:curr_start_idx+curr_pred_len,:] = curr_pred.detach().cpu().numpy()\n",
    "        curr_ground_truth[curr_start_idx:curr_start_idx+curr_pred_len,:] = Y.detach().cpu().numpy()\n",
    "        curr_start_idx += curr_pred_len\n",
    "    corrs.append(pearsonr(curr_ground_truth.flatten(), curr_predictions.flatten())[0])"
   ]
  },
  {
   "cell_type": "markdown",
   "id": "264a5be8",
   "metadata": {},
   "source": [
    "## Plot example 'fold' correlations\n",
    "\n",
    "This represents the last fold."
   ]
  },
  {
   "cell_type": "code",
   "execution_count": 39,
   "id": "57e1599b",
   "metadata": {},
   "outputs": [
    {
     "data": {
      "image/png": "[encoded data removed]",
      "text/plain": [
       "<Figure size 432x432 with 1 Axes>"
      ]
     },
     "metadata": {
      "needs_background": "light"
     },
     "output_type": "display_data"
    },
    {
     "name": "stdout",
     "output_type": "stream",
     "text": [
      "0.46990566775654863\n"
     ]
    }
   ],
   "source": [
    "plt.figure(figsize=(6,6))\n",
    "plt.hist2d(curr_ground_truth.flatten(), curr_predictions.flatten(), \n",
    "           norm=mpl.colors.LogNorm(), bins=40);\n",
    "plt.show()\n",
    "\n",
    "# Print mean of all correlations:\n",
    "print(np.mean(corrs))"
   ]
  },
  {
   "cell_type": "code",
   "execution_count": 40,
   "id": "6e538f8d",
   "metadata": {},
   "outputs": [
    {
     "data": {
      "text/plain": [
       "0.22957093086266628"
      ]
     },
     "execution_count": 40,
     "metadata": {},
     "output_type": "execute_result"
    }
   ],
   "source": [
    "np.mean(np.array(corrs)*np.array(corrs))"
   ]
  },
  {
   "cell_type": "markdown",
   "id": "56ea2813",
   "metadata": {},
   "source": [
    "## Example follow-up for correlations"
   ]
  },
  {
   "cell_type": "code",
   "execution_count": 41,
   "id": "50cfc8eb",
   "metadata": {},
   "outputs": [],
   "source": [
    "def get_subfam_exp_corr_df(subfam, gene,\n",
    "                           ad, all_loo_scores_df, motif_families_repro):\n",
    "    agg_scores = all_loo_scores_df.loc[motif_families[motif_families['subfamily'] == subfam]['motif']] \\\n",
    "                                  .to_numpy().sum(0)\n",
    "    exp_scores = list(ad[:,gene].X[:,0])\n",
    "    print(\"Spearman R = \" + str(round(spearmanr(agg_scores,exp_scores)[0], 2)))\n",
    "    return pd.DataFrame({'agg_scores': agg_scores,\n",
    "                         'exp_scores': exp_scores,\n",
    "                         'most_abundant_celltype': ad.obs['most_abundant_celltype'].copy()})"
   ]
  },
  {
   "cell_type": "code",
   "execution_count": 42,
   "id": "fff099be",
   "metadata": {},
   "outputs": [
    {
     "data": {
      "text/plain": [
       "array(['ZFX:C2H2', 'KLF/SP/2:C2H2', 'YY1:C2H2', 'Ebox/CACGTG/1:bHLH',\n",
       "       'ETS/1:ETS', 'ETS/2:ETS', 'GC-tract:C2H2', 'E2F/2:E2F'],\n",
       "      dtype=object)"
      ]
     },
     "execution_count": 42,
     "metadata": {},
     "output_type": "execute_result"
    }
   ],
   "source": [
    "motif_families_repro['subfamily'].unique()"
   ]
  },
  {
   "cell_type": "code",
   "execution_count": 43,
   "id": "9809deec",
   "metadata": {},
   "outputs": [
    {
     "name": "stdout",
     "output_type": "stream",
     "text": [
      "Spearman R = 0.63\n"
     ]
    },
    {
     "data": {
      "image/png": "[encoded data removed]",
      "text/plain": [
       "<Figure size 288x288 with 1 Axes>"
      ]
     },
     "metadata": {
      "needs_background": "light"
     },
     "output_type": "display_data"
    }
   ],
   "source": [
    "mpl.rcParams[\"figure.figsize\"] = (4,4)\n",
    "curr_fam = \"KLF/SP/2:C2H2\"\n",
    "curr_gene = \"Sp1\"\n",
    "w_e_df = get_subfam_exp_corr_df(curr_fam, curr_gene,\n",
    "                       ad, all_loo_scores_df, motif_families_repro)\n",
    "plt.hist2d(data=w_e_df, x='agg_scores', y='exp_scores', bins=30,\n",
    "           norm=mpl.colors.LogNorm());\n",
    "plt.xlabel(\"Summed LOO scores for \" + curr_fam)\n",
    "plt.ylabel(curr_gene + \" expression\");"
   ]
  },
  {
   "cell_type": "code",
   "execution_count": 44,
   "id": "754300d9",
   "metadata": {},
   "outputs": [
    {
     "data": {
      "image/png": "[encoded data removed]",
      "text/plain": [
       "<Figure size 432x432 with 1 Axes>"
      ]
     },
     "metadata": {
      "needs_background": "light"
     },
     "output_type": "display_data"
    }
   ],
   "source": [
    "mpl.rcParams[\"figure.figsize\"] = (6,6)\n",
    "g = sns.scatterplot(data=w_e_df, x='agg_scores', y='exp_scores', hue='most_abundant_celltype')\n",
    "sns.move_legend(g, \"upper left\", bbox_to_anchor=(1, 1), title='Celltype')\n",
    "plt.show()"
   ]
  },
  {
   "cell_type": "markdown",
   "id": "d3d239a5",
   "metadata": {},
   "source": [
    "## Aggregate influence scores\n",
    "\n",
    "Sometimes it is useful to aggregate the motif scores for the motif families to get a sense of the collective impact of a motif family:"
   ]
  },
  {
   "cell_type": "code",
   "execution_count": 45,
   "id": "a3a8adfb",
   "metadata": {},
   "outputs": [],
   "source": [
    "all_pools = []\n",
    "all_subfam = []\n",
    "all_bulk_sums = []\n",
    "all_celltype = []\n",
    "for subfam in motif_families_repro['subfamily'].unique():\n",
    "    curr_subdf = all_loo_scores_df.loc[motif_families_repro[motif_families_repro['subfamily'] == subfam]['motif']]\n",
    "    curr_bulk_sums = curr_subdf.sum(0)\n",
    "    all_pools += list(curr_bulk_sums.index)\n",
    "    all_subfam += [subfam for x in range(len(curr_bulk_sums))]\n",
    "    all_bulk_sums += list(curr_bulk_sums)\n",
    "    all_celltype += list(ad.obs['most_abundant_celltype'])\n",
    "all_loo_scores_df_aggregate_melt = pd.DataFrame({'subfamily': all_subfam,\n",
    "                                                 'sum': all_bulk_sums,\n",
    "                                                 'celltype': all_celltype},\n",
    "                                                index=all_pools)"
   ]
  },
  {
   "cell_type": "code",
   "execution_count": 46,
   "id": "78a56fb1",
   "metadata": {},
   "outputs": [
    {
     "data": {
      "text/html": [
       "<div>\n",
       "<style scoped>\n",
       "    .dataframe tbody tr th:only-of-type {\n",
       "        vertical-align: middle;\n",
       "    }\n",
       "\n",
       "    .dataframe tbody tr th {\n",
       "        vertical-align: top;\n",
       "    }\n",
       "\n",
       "    .dataframe thead th {\n",
       "        text-align: right;\n",
       "    }\n",
       "</style>\n",
       "<table border=\"1\" class=\"dataframe\">\n",
       "  <thead>\n",
       "    <tr style=\"text-align: right;\">\n",
       "      <th></th>\n",
       "      <th>subfamily</th>\n",
       "      <th>sum</th>\n",
       "      <th>celltype</th>\n",
       "    </tr>\n",
       "  </thead>\n",
       "  <tbody>\n",
       "    <tr>\n",
       "      <th>pseudobulk_0</th>\n",
       "      <td>ZFX:C2H2</td>\n",
       "      <td>0.257419</td>\n",
       "      <td>late pro-B cell</td>\n",
       "    </tr>\n",
       "    <tr>\n",
       "      <th>pseudobulk_1</th>\n",
       "      <td>ZFX:C2H2</td>\n",
       "      <td>0.220352</td>\n",
       "      <td>naive B cell</td>\n",
       "    </tr>\n",
       "    <tr>\n",
       "      <th>pseudobulk_2</th>\n",
       "      <td>ZFX:C2H2</td>\n",
       "      <td>0.270711</td>\n",
       "      <td>late pro-B cell</td>\n",
       "    </tr>\n",
       "    <tr>\n",
       "      <th>pseudobulk_3</th>\n",
       "      <td>ZFX:C2H2</td>\n",
       "      <td>0.263883</td>\n",
       "      <td>macrophage</td>\n",
       "    </tr>\n",
       "    <tr>\n",
       "      <th>pseudobulk_4</th>\n",
       "      <td>ZFX:C2H2</td>\n",
       "      <td>0.273127</td>\n",
       "      <td>late pro-B cell</td>\n",
       "    </tr>\n",
       "    <tr>\n",
       "      <th>...</th>\n",
       "      <td>...</td>\n",
       "      <td>...</td>\n",
       "      <td>...</td>\n",
       "    </tr>\n",
       "    <tr>\n",
       "      <th>pseudobulk_95</th>\n",
       "      <td>E2F/2:E2F</td>\n",
       "      <td>0.463091</td>\n",
       "      <td>Slamf1-negative multipotent progenitor cell</td>\n",
       "    </tr>\n",
       "    <tr>\n",
       "      <th>pseudobulk_96</th>\n",
       "      <td>E2F/2:E2F</td>\n",
       "      <td>0.333614</td>\n",
       "      <td>naive B cell</td>\n",
       "    </tr>\n",
       "    <tr>\n",
       "      <th>pseudobulk_97</th>\n",
       "      <td>E2F/2:E2F</td>\n",
       "      <td>0.483092</td>\n",
       "      <td>Slamf1-negative multipotent progenitor cell</td>\n",
       "    </tr>\n",
       "    <tr>\n",
       "      <th>pseudobulk_98</th>\n",
       "      <td>E2F/2:E2F</td>\n",
       "      <td>0.349964</td>\n",
       "      <td>immature T cell</td>\n",
       "    </tr>\n",
       "    <tr>\n",
       "      <th>pseudobulk_99</th>\n",
       "      <td>E2F/2:E2F</td>\n",
       "      <td>0.363157</td>\n",
       "      <td>immature NK T cell</td>\n",
       "    </tr>\n",
       "  </tbody>\n",
       "</table>\n",
       "<p>800 rows × 3 columns</p>\n",
       "</div>"
      ],
      "text/plain": [
       "               subfamily       sum  \\\n",
       "pseudobulk_0    ZFX:C2H2  0.257419   \n",
       "pseudobulk_1    ZFX:C2H2  0.220352   \n",
       "pseudobulk_2    ZFX:C2H2  0.270711   \n",
       "pseudobulk_3    ZFX:C2H2  0.263883   \n",
       "pseudobulk_4    ZFX:C2H2  0.273127   \n",
       "...                  ...       ...   \n",
       "pseudobulk_95  E2F/2:E2F  0.463091   \n",
       "pseudobulk_96  E2F/2:E2F  0.333614   \n",
       "pseudobulk_97  E2F/2:E2F  0.483092   \n",
       "pseudobulk_98  E2F/2:E2F  0.349964   \n",
       "pseudobulk_99  E2F/2:E2F  0.363157   \n",
       "\n",
       "                                                  celltype  \n",
       "pseudobulk_0                               late pro-B cell  \n",
       "pseudobulk_1                                  naive B cell  \n",
       "pseudobulk_2                               late pro-B cell  \n",
       "pseudobulk_3                                    macrophage  \n",
       "pseudobulk_4                               late pro-B cell  \n",
       "...                                                    ...  \n",
       "pseudobulk_95  Slamf1-negative multipotent progenitor cell  \n",
       "pseudobulk_96                                 naive B cell  \n",
       "pseudobulk_97  Slamf1-negative multipotent progenitor cell  \n",
       "pseudobulk_98                              immature T cell  \n",
       "pseudobulk_99                           immature NK T cell  \n",
       "\n",
       "[800 rows x 3 columns]"
      ]
     },
     "execution_count": 46,
     "metadata": {},
     "output_type": "execute_result"
    }
   ],
   "source": [
    "all_loo_scores_df_aggregate_melt"
   ]
  },
  {
   "cell_type": "markdown",
   "id": "27a9ffa9",
   "metadata": {},
   "source": [
    "## Save data"
   ]
  },
  {
   "cell_type": "code",
   "execution_count": 47,
   "id": "62c46906",
   "metadata": {},
   "outputs": [],
   "source": [
    "motif_families.to_csv(f\"output/{exp_name}_motif_families.csv\")\n",
    "motif_families_repro.to_csv(f\"output/{exp_name}_motif_families_repro.csv\")\n",
    "all_loo_scores_df_aggregate_melt.to_csv(f\"output/{exp_name}_all_loo_scores_df_aggregate_melt.csv\")"
   ]
  },
  {
   "cell_type": "markdown",
   "id": "dda6a8b3",
   "metadata": {},
   "source": [
    "## Appendix\n",
    "\n",
    "In the full Tabula Muris dataset case I would also do an analysis based on the cell type category, but that is slightly counterproductive in this case:"
   ]
  },
  {
   "cell_type": "code",
   "execution_count": 48,
   "id": "ce26d728",
   "metadata": {},
   "outputs": [
    {
     "name": "stderr",
     "output_type": "stream",
     "text": [
      "/tmp/ipykernel_895/1794239175.py:74: ImplicitModificationWarning: Trying to modify attribute `.obs` of view, initializing view as actual.\n",
      "  ad.obs[\"most_abundant_celltype_category\"] = [celltype_to_category[x] for x in ad.obs['most_abundant_celltype']]\n"
     ]
    }
   ],
   "source": [
    "celltype_to_category = {\n",
    "    \"B cell\": \"immune\",\n",
    "    \"Slamf1-negative multipotent progenitor cell\": \"immune\", #\n",
    "    \"Slamf1-positive multipotent progenitor cell\": \"immune\", #\n",
    "    \"T cell\": \"immune\",\n",
    "    \"astrocyte\": \"macroglial\",\n",
    "    \"basal cell\": \"epithelial\",\n",
    "    \"basal cell of epidermis\": \"epithelial\",\n",
    "    \"bladder cell\": \"connective\",\n",
    "    \"bladder urothelial cell\": \"epithelial\",\n",
    "    \"blood cell\": \"erythrocyte\",\n",
    "    \"brain pericyte\": \"pericyte\",\n",
    "    \"Brush cell of epithelium proper of large intestine\": \"epithelial\",\n",
    "    \"cardiac muscle cell\": \"muscle\",\n",
    "    \"classical monocyte\": \"immune\",\n",
    "    \"common lymphoid progenitor\": \"immune\", #\n",
    "    \"endocardial cell\": \"endothelial\",\n",
    "    \"endothelial cell\": \"endothelial\",\n",
    "    \"endothelial cell of hepatic sinusoid\": \"endothelial\",\n",
    "    \"enterocyte of epithelium of large intestine\": \"epithelial\",\n",
    "    \"enteroendocrine cell\": \"endocrine\",\n",
    "    \"epidermal cell\": \"epithelial\",\n",
    "    \"epithelial cell\": \"epithelial\",\n",
    "    \"epithelial cell of large intestine\": \"epithelial\",\n",
    "    \"epithelial cell of lung\": \"epithelial\",\n",
    "    \"epithelial cell of proximal tubule\": \"epithelial\",\n",
    "    \"erythrocyte\": \"erythrocyte\",\n",
    "    \"fibroblast\": \"connective\",\n",
    "    \"granulocyte\": \"immune\",\n",
    "    \"granulocyte monocyte progenitor cell\": \"immune\",\n",
    "    \"granulocytopoietic cell\": \"immune\",\n",
    "    \"hematopoietic precursor cell\": \"immune\", #\n",
    "    \"hepatocyte\": \"epithelial\",\n",
    "    \"immature B cell\": \"immune\",\n",
    "    \"immature T cell\": \"immune\",\n",
    "    \"immature NK T cell\": \"immune\",\n",
    "    \"keratinocyte\": \"epithelial\",\n",
    "    \"keratinocyte stem cell\": \"epithelial\",\n",
    "    \"kidney collecting duct epithelial cell\": \"epithelial\",\n",
    "    \"Kupffer cell\": \"immune\",\n",
    "    \"large intestine goblet cell\": \"epithelial\",\n",
    "    \"late pro-B cell\": \"immune\",\n",
    "    \"leukocyte\": \"immune\",\n",
    "    \"luminal epithelial cell of mammary gland\": \"epithelial\",\n",
    "    \"lung endothelial cell\": \"endothelial\",\n",
    "    \"lymphocyte\": \"immune\",\n",
    "    \"macrophage\": \"immune\",\n",
    "    \"mature natural killer cell\": \"immune\",\n",
    "    \"mesenchymal cell\": \"connective\",\n",
    "    \"mesenchymal stem cell\": \"connective\",\n",
    "    \"mesenchymal stem cell of adipose\": \"connective\",\n",
    "    \"microglial cell\": \"immune\",\n",
    "    \"monocyte\": \"immune\",\n",
    "    \"myeloid cell\": \"immune\",\n",
    "    \"myofibroblast cell\": \"connective\",\n",
    "    \"naive B cell\": \"immune\",\n",
    "    \"natural killer cell\": \"immune\",\n",
    "    \"neuron\": \"neuronal\",\n",
    "    \"oligodendrocyte\": \"macroglial\",\n",
    "    \"oligodendrocyte precursor cell\": \"macroglial\", #\n",
    "    \"pancreatic A cell\": \"endocrine\",\n",
    "    \"pancreatic D cell\": \"endocrine\",\n",
    "    \"pancreatic acinar cell\": \"exocrine\",\n",
    "    \"pancreatic ductal cell\": \"epithelial\",\n",
    "    \"precursor B cell\": \"immune\",\n",
    "    \"pre-natural killer cell\": \"immune\",\n",
    "    \"skeletal muscle satellite cell\": \"muscle\",\n",
    "    \"skeletal muscle satellite stem cell\": \"muscle\", #\n",
    "    \"smooth muscle cell\": \"muscle\",\n",
    "    \"stromal cell\": \"connective\",\n",
    "    \"stem cell of epidermis\": \"epithelial\", #\n",
    "    \"type B pancreatic cell\": \"endocrine\"\n",
    "}\n",
    "ad.obs[\"most_abundant_celltype_category\"] = [celltype_to_category[x] for x in ad.obs['most_abundant_celltype']]\n",
    "ad.obs[\"cell_type_category\"] = [celltype_to_category[x] for x in ad.obs['most_abundant_celltype']]"
   ]
  },
  {
   "cell_type": "code",
   "execution_count": 49,
   "id": "10781491",
   "metadata": {},
   "outputs": [
    {
     "data": {
      "image/png": "[encoded data removed]",
      "text/plain": [
       "<Figure size 432x432 with 1 Axes>"
      ]
     },
     "metadata": {},
     "output_type": "display_data"
    }
   ],
   "source": [
    "sc.pl.umap(ad, color='cell_type_category')"
   ]
  }
 ],
 "metadata": {
  "kernelspec": {
   "display_name": "Python 3 (ipykernel)",
   "language": "python",
   "name": "python3"
  },
  "language_info": {
   "codemirror_mode": {
    "name": "ipython",
    "version": 3
   },
   "file_extension": ".py",
   "mimetype": "text/x-python",
   "name": "python",
   "nbconvert_exporter": "python",
   "pygments_lexer": "ipython3",
   "version": "3.9.12"
  }
 },
 "nbformat": 4,
 "nbformat_minor": 5
}
